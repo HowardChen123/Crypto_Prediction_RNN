{
  "nbformat": 4,
  "nbformat_minor": 0,
  "metadata": {
    "colab": {
      "name": "Final_Project.ipynb",
      "provenance": [],
      "collapsed_sections": []
    },
    "kernelspec": {
      "name": "python3",
      "display_name": "Python 3"
    },
    "language_info": {
      "name": "python"
    },
    "accelerator": "GPU"
  },
  "cells": [
    {
      "cell_type": "code",
      "execution_count": 1,
      "metadata": {
        "id": "Yqb7OCFZ5BMP"
      },
      "outputs": [],
      "source": [
        "import numpy as np\n",
        "import pandas as pd\n",
        "import torch\n",
        "import matplotlib.pyplot as plt\n",
        "import torch\n",
        "import torch.nn as nn"
      ]
    },
    {
      "cell_type": "code",
      "source": [
        "%tensorflow_version 2.x\n",
        "import tensorflow as tf\n",
        "device_name = tf.test.gpu_device_name()\n",
        "if device_name != '/device:GPU:0':\n",
        "  raise SystemError('GPU device not found')\n",
        "print('Found GPU at: {}'.format(device_name))"
      ],
      "metadata": {
        "id": "I2aVqZyp_Myp",
        "colab": {
          "base_uri": "https://localhost:8080/"
        },
        "outputId": "ba5d0492-d1cf-4f34-d9f5-a43874dde598"
      },
      "execution_count": 2,
      "outputs": [
        {
          "output_type": "stream",
          "name": "stdout",
          "text": [
            "Found GPU at: /device:GPU:0\n"
          ]
        }
      ]
    },
    {
      "cell_type": "markdown",
      "source": [
        "## Data"
      ],
      "metadata": {
        "id": "pAOYshvkhe0V"
      }
    },
    {
      "cell_type": "markdown",
      "source": [
        "### Data Preprocessing"
      ],
      "metadata": {
        "id": "wfsgD6yEoYTv"
      }
    },
    {
      "cell_type": "markdown",
      "source": [
        "- Data Source: [TradingView](https://cn.tradingview.com/)\n",
        "  - Cardano (ADAUSDT)\n",
        "  - Solana (SOLUSD)"
      ],
      "metadata": {
        "id": "4n3WkYZ5nByd"
      }
    },
    {
      "cell_type": "code",
      "source": [
        "cardano = pd.read_csv(\"/content/data/BINANCE_ADAUSDT, 60.csv\")\n",
        "solana = pd.read_csv(\"/content/data/FTX_SOLUSD, 60.csv\")"
      ],
      "metadata": {
        "id": "dXW5Cw_0Dqpc"
      },
      "execution_count": 3,
      "outputs": []
    },
    {
      "cell_type": "code",
      "source": [
        "cardano.head(5)"
      ],
      "metadata": {
        "id": "k0N1mlzDn0r7",
        "colab": {
          "base_uri": "https://localhost:8080/",
          "height": 371
        },
        "outputId": "8e447861-e0fe-4fe1-deb9-9a9f9a9c98a3"
      },
      "execution_count": 4,
      "outputs": [
        {
          "output_type": "execute_result",
          "data": {
            "text/plain": [
              "                        time     open     high      low    close     Volume  \\\n",
              "0  2019-01-01T08:00:00+08:00  0.04057  0.04059  0.03995  0.04035  5902479.6   \n",
              "1  2019-01-01T09:00:00+08:00  0.04040  0.04048  0.03987  0.04000  3739370.5   \n",
              "2  2019-01-01T10:00:00+08:00  0.04004  0.04004  0.03964  0.03991  3615775.0   \n",
              "3  2019-01-01T11:00:00+08:00  0.03988  0.04021  0.03985  0.04020  2419828.6   \n",
              "4  2019-01-01T12:00:00+08:00  0.04020  0.04068  0.04017  0.04043  5649221.7   \n",
              "\n",
              "   Volume MA  Plot  Histogram  MACD  Signal  RSI  RSI-based MA  \\\n",
              "0        NaN   NaN        NaN   NaN     NaN  NaN           NaN   \n",
              "1        NaN   NaN        NaN   NaN     NaN  NaN           NaN   \n",
              "2        NaN   NaN        NaN   NaN     NaN  NaN           NaN   \n",
              "3        NaN   NaN        NaN   NaN     NaN  NaN           NaN   \n",
              "4        NaN   NaN        NaN   NaN     NaN  NaN           NaN   \n",
              "\n",
              "   Upper Bollinger Band  Lower Bollinger Band  Bollinger Bands Width  \\\n",
              "0                   NaN                   NaN                    NaN   \n",
              "1                   NaN                   NaN                    NaN   \n",
              "2                   NaN                   NaN                    NaN   \n",
              "3                   NaN                   NaN                    NaN   \n",
              "4                   NaN                   NaN                    NaN   \n",
              "\n",
              "        Plot.1  \n",
              "0 -7294.990642  \n",
              "1 -5806.393346  \n",
              "2 -5709.628827  \n",
              "3 -4670.875288  \n",
              "4 -7136.765597  "
            ],
            "text/html": [
              "\n",
              "  <div id=\"df-cb7a115f-933d-4acc-8c37-6501e55eb43b\">\n",
              "    <div class=\"colab-df-container\">\n",
              "      <div>\n",
              "<style scoped>\n",
              "    .dataframe tbody tr th:only-of-type {\n",
              "        vertical-align: middle;\n",
              "    }\n",
              "\n",
              "    .dataframe tbody tr th {\n",
              "        vertical-align: top;\n",
              "    }\n",
              "\n",
              "    .dataframe thead th {\n",
              "        text-align: right;\n",
              "    }\n",
              "</style>\n",
              "<table border=\"1\" class=\"dataframe\">\n",
              "  <thead>\n",
              "    <tr style=\"text-align: right;\">\n",
              "      <th></th>\n",
              "      <th>time</th>\n",
              "      <th>open</th>\n",
              "      <th>high</th>\n",
              "      <th>low</th>\n",
              "      <th>close</th>\n",
              "      <th>Volume</th>\n",
              "      <th>Volume MA</th>\n",
              "      <th>Plot</th>\n",
              "      <th>Histogram</th>\n",
              "      <th>MACD</th>\n",
              "      <th>Signal</th>\n",
              "      <th>RSI</th>\n",
              "      <th>RSI-based MA</th>\n",
              "      <th>Upper Bollinger Band</th>\n",
              "      <th>Lower Bollinger Band</th>\n",
              "      <th>Bollinger Bands Width</th>\n",
              "      <th>Plot.1</th>\n",
              "    </tr>\n",
              "  </thead>\n",
              "  <tbody>\n",
              "    <tr>\n",
              "      <th>0</th>\n",
              "      <td>2019-01-01T08:00:00+08:00</td>\n",
              "      <td>0.04057</td>\n",
              "      <td>0.04059</td>\n",
              "      <td>0.03995</td>\n",
              "      <td>0.04035</td>\n",
              "      <td>5902479.6</td>\n",
              "      <td>NaN</td>\n",
              "      <td>NaN</td>\n",
              "      <td>NaN</td>\n",
              "      <td>NaN</td>\n",
              "      <td>NaN</td>\n",
              "      <td>NaN</td>\n",
              "      <td>NaN</td>\n",
              "      <td>NaN</td>\n",
              "      <td>NaN</td>\n",
              "      <td>NaN</td>\n",
              "      <td>-7294.990642</td>\n",
              "    </tr>\n",
              "    <tr>\n",
              "      <th>1</th>\n",
              "      <td>2019-01-01T09:00:00+08:00</td>\n",
              "      <td>0.04040</td>\n",
              "      <td>0.04048</td>\n",
              "      <td>0.03987</td>\n",
              "      <td>0.04000</td>\n",
              "      <td>3739370.5</td>\n",
              "      <td>NaN</td>\n",
              "      <td>NaN</td>\n",
              "      <td>NaN</td>\n",
              "      <td>NaN</td>\n",
              "      <td>NaN</td>\n",
              "      <td>NaN</td>\n",
              "      <td>NaN</td>\n",
              "      <td>NaN</td>\n",
              "      <td>NaN</td>\n",
              "      <td>NaN</td>\n",
              "      <td>-5806.393346</td>\n",
              "    </tr>\n",
              "    <tr>\n",
              "      <th>2</th>\n",
              "      <td>2019-01-01T10:00:00+08:00</td>\n",
              "      <td>0.04004</td>\n",
              "      <td>0.04004</td>\n",
              "      <td>0.03964</td>\n",
              "      <td>0.03991</td>\n",
              "      <td>3615775.0</td>\n",
              "      <td>NaN</td>\n",
              "      <td>NaN</td>\n",
              "      <td>NaN</td>\n",
              "      <td>NaN</td>\n",
              "      <td>NaN</td>\n",
              "      <td>NaN</td>\n",
              "      <td>NaN</td>\n",
              "      <td>NaN</td>\n",
              "      <td>NaN</td>\n",
              "      <td>NaN</td>\n",
              "      <td>-5709.628827</td>\n",
              "    </tr>\n",
              "    <tr>\n",
              "      <th>3</th>\n",
              "      <td>2019-01-01T11:00:00+08:00</td>\n",
              "      <td>0.03988</td>\n",
              "      <td>0.04021</td>\n",
              "      <td>0.03985</td>\n",
              "      <td>0.04020</td>\n",
              "      <td>2419828.6</td>\n",
              "      <td>NaN</td>\n",
              "      <td>NaN</td>\n",
              "      <td>NaN</td>\n",
              "      <td>NaN</td>\n",
              "      <td>NaN</td>\n",
              "      <td>NaN</td>\n",
              "      <td>NaN</td>\n",
              "      <td>NaN</td>\n",
              "      <td>NaN</td>\n",
              "      <td>NaN</td>\n",
              "      <td>-4670.875288</td>\n",
              "    </tr>\n",
              "    <tr>\n",
              "      <th>4</th>\n",
              "      <td>2019-01-01T12:00:00+08:00</td>\n",
              "      <td>0.04020</td>\n",
              "      <td>0.04068</td>\n",
              "      <td>0.04017</td>\n",
              "      <td>0.04043</td>\n",
              "      <td>5649221.7</td>\n",
              "      <td>NaN</td>\n",
              "      <td>NaN</td>\n",
              "      <td>NaN</td>\n",
              "      <td>NaN</td>\n",
              "      <td>NaN</td>\n",
              "      <td>NaN</td>\n",
              "      <td>NaN</td>\n",
              "      <td>NaN</td>\n",
              "      <td>NaN</td>\n",
              "      <td>NaN</td>\n",
              "      <td>-7136.765597</td>\n",
              "    </tr>\n",
              "  </tbody>\n",
              "</table>\n",
              "</div>\n",
              "      <button class=\"colab-df-convert\" onclick=\"convertToInteractive('df-cb7a115f-933d-4acc-8c37-6501e55eb43b')\"\n",
              "              title=\"Convert this dataframe to an interactive table.\"\n",
              "              style=\"display:none;\">\n",
              "        \n",
              "  <svg xmlns=\"http://www.w3.org/2000/svg\" height=\"24px\"viewBox=\"0 0 24 24\"\n",
              "       width=\"24px\">\n",
              "    <path d=\"M0 0h24v24H0V0z\" fill=\"none\"/>\n",
              "    <path d=\"M18.56 5.44l.94 2.06.94-2.06 2.06-.94-2.06-.94-.94-2.06-.94 2.06-2.06.94zm-11 1L8.5 8.5l.94-2.06 2.06-.94-2.06-.94L8.5 2.5l-.94 2.06-2.06.94zm10 10l.94 2.06.94-2.06 2.06-.94-2.06-.94-.94-2.06-.94 2.06-2.06.94z\"/><path d=\"M17.41 7.96l-1.37-1.37c-.4-.4-.92-.59-1.43-.59-.52 0-1.04.2-1.43.59L10.3 9.45l-7.72 7.72c-.78.78-.78 2.05 0 2.83L4 21.41c.39.39.9.59 1.41.59.51 0 1.02-.2 1.41-.59l7.78-7.78 2.81-2.81c.8-.78.8-2.07 0-2.86zM5.41 20L4 18.59l7.72-7.72 1.47 1.35L5.41 20z\"/>\n",
              "  </svg>\n",
              "      </button>\n",
              "      \n",
              "  <style>\n",
              "    .colab-df-container {\n",
              "      display:flex;\n",
              "      flex-wrap:wrap;\n",
              "      gap: 12px;\n",
              "    }\n",
              "\n",
              "    .colab-df-convert {\n",
              "      background-color: #E8F0FE;\n",
              "      border: none;\n",
              "      border-radius: 50%;\n",
              "      cursor: pointer;\n",
              "      display: none;\n",
              "      fill: #1967D2;\n",
              "      height: 32px;\n",
              "      padding: 0 0 0 0;\n",
              "      width: 32px;\n",
              "    }\n",
              "\n",
              "    .colab-df-convert:hover {\n",
              "      background-color: #E2EBFA;\n",
              "      box-shadow: 0px 1px 2px rgba(60, 64, 67, 0.3), 0px 1px 3px 1px rgba(60, 64, 67, 0.15);\n",
              "      fill: #174EA6;\n",
              "    }\n",
              "\n",
              "    [theme=dark] .colab-df-convert {\n",
              "      background-color: #3B4455;\n",
              "      fill: #D2E3FC;\n",
              "    }\n",
              "\n",
              "    [theme=dark] .colab-df-convert:hover {\n",
              "      background-color: #434B5C;\n",
              "      box-shadow: 0px 1px 3px 1px rgba(0, 0, 0, 0.15);\n",
              "      filter: drop-shadow(0px 1px 2px rgba(0, 0, 0, 0.3));\n",
              "      fill: #FFFFFF;\n",
              "    }\n",
              "  </style>\n",
              "\n",
              "      <script>\n",
              "        const buttonEl =\n",
              "          document.querySelector('#df-cb7a115f-933d-4acc-8c37-6501e55eb43b button.colab-df-convert');\n",
              "        buttonEl.style.display =\n",
              "          google.colab.kernel.accessAllowed ? 'block' : 'none';\n",
              "\n",
              "        async function convertToInteractive(key) {\n",
              "          const element = document.querySelector('#df-cb7a115f-933d-4acc-8c37-6501e55eb43b');\n",
              "          const dataTable =\n",
              "            await google.colab.kernel.invokeFunction('convertToInteractive',\n",
              "                                                     [key], {});\n",
              "          if (!dataTable) return;\n",
              "\n",
              "          const docLinkHtml = 'Like what you see? Visit the ' +\n",
              "            '<a target=\"_blank\" href=https://colab.research.google.com/notebooks/data_table.ipynb>data table notebook</a>'\n",
              "            + ' to learn more about interactive tables.';\n",
              "          element.innerHTML = '';\n",
              "          dataTable['output_type'] = 'display_data';\n",
              "          await google.colab.output.renderOutput(dataTable, element);\n",
              "          const docLink = document.createElement('div');\n",
              "          docLink.innerHTML = docLinkHtml;\n",
              "          element.appendChild(docLink);\n",
              "        }\n",
              "      </script>\n",
              "    </div>\n",
              "  </div>\n",
              "  "
            ]
          },
          "metadata": {},
          "execution_count": 4
        }
      ]
    },
    {
      "cell_type": "code",
      "source": [
        "solana.head(5)"
      ],
      "metadata": {
        "id": "Zs45T2iooPoV",
        "colab": {
          "base_uri": "https://localhost:8080/",
          "height": 371
        },
        "outputId": "4b30fca5-8905-453d-e06c-8c842006cb79"
      },
      "execution_count": 5,
      "outputs": [
        {
          "output_type": "execute_result",
          "data": {
            "text/plain": [
              "                        time      open      high       low     close  Volume  \\\n",
              "0  2020-04-10T13:00:00+08:00  0.838859  0.841505  0.829556  0.830813     0.0   \n",
              "1  2020-04-10T14:00:00+08:00  0.830813  0.830813  0.789543  0.789543     0.0   \n",
              "2  2020-04-10T15:00:00+08:00  0.789543  0.789543  0.711701  0.744974     0.0   \n",
              "3  2020-04-10T16:00:00+08:00  0.744974  0.790444  0.744974  0.776781     0.0   \n",
              "4  2020-04-10T17:00:00+08:00  0.776781  0.776781  0.766247  0.775709     0.0   \n",
              "\n",
              "   Volume MA  Plot  Histogram  MACD  Signal  RSI  RSI-based MA  \\\n",
              "0        NaN   NaN        NaN   NaN     NaN  NaN           NaN   \n",
              "1        NaN   NaN        NaN   NaN     NaN  NaN           NaN   \n",
              "2        NaN   NaN        NaN   NaN     NaN  NaN           NaN   \n",
              "3        NaN   NaN        NaN   NaN     NaN  NaN           NaN   \n",
              "4        NaN   NaN        NaN   NaN     NaN  NaN           NaN   \n",
              "\n",
              "   Upper Bollinger Band  Lower Bollinger Band  Bollinger Bands Width  Plot.1  \n",
              "0                   NaN                   NaN                    NaN     NaN  \n",
              "1                   NaN                   NaN                    NaN     NaN  \n",
              "2                   NaN                   NaN                    NaN     NaN  \n",
              "3                   NaN                   NaN                    NaN     NaN  \n",
              "4                   NaN                   NaN                    NaN     NaN  "
            ],
            "text/html": [
              "\n",
              "  <div id=\"df-e042df34-3d48-4ab6-b264-c143ac9359b5\">\n",
              "    <div class=\"colab-df-container\">\n",
              "      <div>\n",
              "<style scoped>\n",
              "    .dataframe tbody tr th:only-of-type {\n",
              "        vertical-align: middle;\n",
              "    }\n",
              "\n",
              "    .dataframe tbody tr th {\n",
              "        vertical-align: top;\n",
              "    }\n",
              "\n",
              "    .dataframe thead th {\n",
              "        text-align: right;\n",
              "    }\n",
              "</style>\n",
              "<table border=\"1\" class=\"dataframe\">\n",
              "  <thead>\n",
              "    <tr style=\"text-align: right;\">\n",
              "      <th></th>\n",
              "      <th>time</th>\n",
              "      <th>open</th>\n",
              "      <th>high</th>\n",
              "      <th>low</th>\n",
              "      <th>close</th>\n",
              "      <th>Volume</th>\n",
              "      <th>Volume MA</th>\n",
              "      <th>Plot</th>\n",
              "      <th>Histogram</th>\n",
              "      <th>MACD</th>\n",
              "      <th>Signal</th>\n",
              "      <th>RSI</th>\n",
              "      <th>RSI-based MA</th>\n",
              "      <th>Upper Bollinger Band</th>\n",
              "      <th>Lower Bollinger Band</th>\n",
              "      <th>Bollinger Bands Width</th>\n",
              "      <th>Plot.1</th>\n",
              "    </tr>\n",
              "  </thead>\n",
              "  <tbody>\n",
              "    <tr>\n",
              "      <th>0</th>\n",
              "      <td>2020-04-10T13:00:00+08:00</td>\n",
              "      <td>0.838859</td>\n",
              "      <td>0.841505</td>\n",
              "      <td>0.829556</td>\n",
              "      <td>0.830813</td>\n",
              "      <td>0.0</td>\n",
              "      <td>NaN</td>\n",
              "      <td>NaN</td>\n",
              "      <td>NaN</td>\n",
              "      <td>NaN</td>\n",
              "      <td>NaN</td>\n",
              "      <td>NaN</td>\n",
              "      <td>NaN</td>\n",
              "      <td>NaN</td>\n",
              "      <td>NaN</td>\n",
              "      <td>NaN</td>\n",
              "      <td>NaN</td>\n",
              "    </tr>\n",
              "    <tr>\n",
              "      <th>1</th>\n",
              "      <td>2020-04-10T14:00:00+08:00</td>\n",
              "      <td>0.830813</td>\n",
              "      <td>0.830813</td>\n",
              "      <td>0.789543</td>\n",
              "      <td>0.789543</td>\n",
              "      <td>0.0</td>\n",
              "      <td>NaN</td>\n",
              "      <td>NaN</td>\n",
              "      <td>NaN</td>\n",
              "      <td>NaN</td>\n",
              "      <td>NaN</td>\n",
              "      <td>NaN</td>\n",
              "      <td>NaN</td>\n",
              "      <td>NaN</td>\n",
              "      <td>NaN</td>\n",
              "      <td>NaN</td>\n",
              "      <td>NaN</td>\n",
              "    </tr>\n",
              "    <tr>\n",
              "      <th>2</th>\n",
              "      <td>2020-04-10T15:00:00+08:00</td>\n",
              "      <td>0.789543</td>\n",
              "      <td>0.789543</td>\n",
              "      <td>0.711701</td>\n",
              "      <td>0.744974</td>\n",
              "      <td>0.0</td>\n",
              "      <td>NaN</td>\n",
              "      <td>NaN</td>\n",
              "      <td>NaN</td>\n",
              "      <td>NaN</td>\n",
              "      <td>NaN</td>\n",
              "      <td>NaN</td>\n",
              "      <td>NaN</td>\n",
              "      <td>NaN</td>\n",
              "      <td>NaN</td>\n",
              "      <td>NaN</td>\n",
              "      <td>NaN</td>\n",
              "    </tr>\n",
              "    <tr>\n",
              "      <th>3</th>\n",
              "      <td>2020-04-10T16:00:00+08:00</td>\n",
              "      <td>0.744974</td>\n",
              "      <td>0.790444</td>\n",
              "      <td>0.744974</td>\n",
              "      <td>0.776781</td>\n",
              "      <td>0.0</td>\n",
              "      <td>NaN</td>\n",
              "      <td>NaN</td>\n",
              "      <td>NaN</td>\n",
              "      <td>NaN</td>\n",
              "      <td>NaN</td>\n",
              "      <td>NaN</td>\n",
              "      <td>NaN</td>\n",
              "      <td>NaN</td>\n",
              "      <td>NaN</td>\n",
              "      <td>NaN</td>\n",
              "      <td>NaN</td>\n",
              "    </tr>\n",
              "    <tr>\n",
              "      <th>4</th>\n",
              "      <td>2020-04-10T17:00:00+08:00</td>\n",
              "      <td>0.776781</td>\n",
              "      <td>0.776781</td>\n",
              "      <td>0.766247</td>\n",
              "      <td>0.775709</td>\n",
              "      <td>0.0</td>\n",
              "      <td>NaN</td>\n",
              "      <td>NaN</td>\n",
              "      <td>NaN</td>\n",
              "      <td>NaN</td>\n",
              "      <td>NaN</td>\n",
              "      <td>NaN</td>\n",
              "      <td>NaN</td>\n",
              "      <td>NaN</td>\n",
              "      <td>NaN</td>\n",
              "      <td>NaN</td>\n",
              "      <td>NaN</td>\n",
              "    </tr>\n",
              "  </tbody>\n",
              "</table>\n",
              "</div>\n",
              "      <button class=\"colab-df-convert\" onclick=\"convertToInteractive('df-e042df34-3d48-4ab6-b264-c143ac9359b5')\"\n",
              "              title=\"Convert this dataframe to an interactive table.\"\n",
              "              style=\"display:none;\">\n",
              "        \n",
              "  <svg xmlns=\"http://www.w3.org/2000/svg\" height=\"24px\"viewBox=\"0 0 24 24\"\n",
              "       width=\"24px\">\n",
              "    <path d=\"M0 0h24v24H0V0z\" fill=\"none\"/>\n",
              "    <path d=\"M18.56 5.44l.94 2.06.94-2.06 2.06-.94-2.06-.94-.94-2.06-.94 2.06-2.06.94zm-11 1L8.5 8.5l.94-2.06 2.06-.94-2.06-.94L8.5 2.5l-.94 2.06-2.06.94zm10 10l.94 2.06.94-2.06 2.06-.94-2.06-.94-.94-2.06-.94 2.06-2.06.94z\"/><path d=\"M17.41 7.96l-1.37-1.37c-.4-.4-.92-.59-1.43-.59-.52 0-1.04.2-1.43.59L10.3 9.45l-7.72 7.72c-.78.78-.78 2.05 0 2.83L4 21.41c.39.39.9.59 1.41.59.51 0 1.02-.2 1.41-.59l7.78-7.78 2.81-2.81c.8-.78.8-2.07 0-2.86zM5.41 20L4 18.59l7.72-7.72 1.47 1.35L5.41 20z\"/>\n",
              "  </svg>\n",
              "      </button>\n",
              "      \n",
              "  <style>\n",
              "    .colab-df-container {\n",
              "      display:flex;\n",
              "      flex-wrap:wrap;\n",
              "      gap: 12px;\n",
              "    }\n",
              "\n",
              "    .colab-df-convert {\n",
              "      background-color: #E8F0FE;\n",
              "      border: none;\n",
              "      border-radius: 50%;\n",
              "      cursor: pointer;\n",
              "      display: none;\n",
              "      fill: #1967D2;\n",
              "      height: 32px;\n",
              "      padding: 0 0 0 0;\n",
              "      width: 32px;\n",
              "    }\n",
              "\n",
              "    .colab-df-convert:hover {\n",
              "      background-color: #E2EBFA;\n",
              "      box-shadow: 0px 1px 2px rgba(60, 64, 67, 0.3), 0px 1px 3px 1px rgba(60, 64, 67, 0.15);\n",
              "      fill: #174EA6;\n",
              "    }\n",
              "\n",
              "    [theme=dark] .colab-df-convert {\n",
              "      background-color: #3B4455;\n",
              "      fill: #D2E3FC;\n",
              "    }\n",
              "\n",
              "    [theme=dark] .colab-df-convert:hover {\n",
              "      background-color: #434B5C;\n",
              "      box-shadow: 0px 1px 3px 1px rgba(0, 0, 0, 0.15);\n",
              "      filter: drop-shadow(0px 1px 2px rgba(0, 0, 0, 0.3));\n",
              "      fill: #FFFFFF;\n",
              "    }\n",
              "  </style>\n",
              "\n",
              "      <script>\n",
              "        const buttonEl =\n",
              "          document.querySelector('#df-e042df34-3d48-4ab6-b264-c143ac9359b5 button.colab-df-convert');\n",
              "        buttonEl.style.display =\n",
              "          google.colab.kernel.accessAllowed ? 'block' : 'none';\n",
              "\n",
              "        async function convertToInteractive(key) {\n",
              "          const element = document.querySelector('#df-e042df34-3d48-4ab6-b264-c143ac9359b5');\n",
              "          const dataTable =\n",
              "            await google.colab.kernel.invokeFunction('convertToInteractive',\n",
              "                                                     [key], {});\n",
              "          if (!dataTable) return;\n",
              "\n",
              "          const docLinkHtml = 'Like what you see? Visit the ' +\n",
              "            '<a target=\"_blank\" href=https://colab.research.google.com/notebooks/data_table.ipynb>data table notebook</a>'\n",
              "            + ' to learn more about interactive tables.';\n",
              "          element.innerHTML = '';\n",
              "          dataTable['output_type'] = 'display_data';\n",
              "          await google.colab.output.renderOutput(dataTable, element);\n",
              "          const docLink = document.createElement('div');\n",
              "          docLink.innerHTML = docLinkHtml;\n",
              "          element.appendChild(docLink);\n",
              "        }\n",
              "      </script>\n",
              "    </div>\n",
              "  </div>\n",
              "  "
            ]
          },
          "metadata": {},
          "execution_count": 5
        }
      ]
    },
    {
      "cell_type": "code",
      "source": [
        "# 1. Drop columns that are all NaN or not sure about the meaning\n",
        "cardano = cardano.drop(columns=['Upper Bollinger Band', \n",
        "                                'Lower Bollinger Band',\n",
        "                                'Volume MA'])\n",
        "solana = solana.drop(columns=['Upper Bollinger Band', \n",
        "                              'Lower Bollinger Band',\n",
        "                              'Volume MA'])"
      ],
      "metadata": {
        "id": "bTSrKqm5omyd"
      },
      "execution_count": 6,
      "outputs": []
    },
    {
      "cell_type": "code",
      "source": [
        "# 2. Rename columns\n",
        "rename_map = {\n",
        "    \"time\": \"Time\",\n",
        "    \"open\": \"Open\",\n",
        "    \"high\": \"High\",\n",
        "    \"low\": \"Low\",\n",
        "    \"close\": \"Close\",\n",
        "    \"Plot\": \"Fear and Greed Index\",\n",
        "    \"Plot.1\": \"FOMO Indicator\"\n",
        "}\n",
        "cardano = cardano.rename(columns = rename_map)\n",
        "solana = solana.rename(columns = rename_map)"
      ],
      "metadata": {
        "id": "HseinV-UpFKE"
      },
      "execution_count": 7,
      "outputs": []
    },
    {
      "cell_type": "code",
      "source": [
        "# 4. Remove the first 33 rows for cardano since MACD is NaN\n",
        "cardano = cardano.iloc[33:, :]\n",
        "# Remove the first 2582 rows for solana since volume is 0\n",
        "solana = solana.iloc[2582: , :]"
      ],
      "metadata": {
        "id": "QXlcCYk6sfF4"
      },
      "execution_count": 8,
      "outputs": []
    },
    {
      "cell_type": "code",
      "source": [
        "cardano.isna().sum()"
      ],
      "metadata": {
        "id": "jIoUhETMtdGi",
        "colab": {
          "base_uri": "https://localhost:8080/"
        },
        "outputId": "95dbcadf-5465-4158-efbe-9d9ee03f4b31"
      },
      "execution_count": 9,
      "outputs": [
        {
          "output_type": "execute_result",
          "data": {
            "text/plain": [
              "Time                     0\n",
              "Open                     0\n",
              "High                     0\n",
              "Low                      0\n",
              "Close                    0\n",
              "Volume                   0\n",
              "Fear and Greed Index     0\n",
              "Histogram                0\n",
              "MACD                     0\n",
              "Signal                   0\n",
              "RSI                      0\n",
              "RSI-based MA             0\n",
              "Bollinger Bands Width    0\n",
              "FOMO Indicator           1\n",
              "dtype: int64"
            ]
          },
          "metadata": {},
          "execution_count": 9
        }
      ]
    },
    {
      "cell_type": "code",
      "source": [
        "solana.isna().sum()"
      ],
      "metadata": {
        "id": "4hbf97G6tsjz",
        "colab": {
          "base_uri": "https://localhost:8080/"
        },
        "outputId": "7096afc8-e841-41d6-c55e-b6678c80be15"
      },
      "execution_count": 10,
      "outputs": [
        {
          "output_type": "execute_result",
          "data": {
            "text/plain": [
              "Time                       0\n",
              "Open                       0\n",
              "High                       0\n",
              "Low                        0\n",
              "Close                      0\n",
              "Volume                     0\n",
              "Fear and Greed Index       0\n",
              "Histogram                  0\n",
              "MACD                       0\n",
              "Signal                     0\n",
              "RSI                        0\n",
              "RSI-based MA               0\n",
              "Bollinger Bands Width      0\n",
              "FOMO Indicator           186\n",
              "dtype: int64"
            ]
          },
          "metadata": {},
          "execution_count": 10
        }
      ]
    },
    {
      "cell_type": "code",
      "source": [
        "# fomo_mean = solana[\"FOMO Indicator\"].mean()\n",
        "# solana[\"FOMO Indicator\"] = solana[\"FOMO Indicator\"].fillna(fomo_mean)\n",
        "fomo_mean = solana[\"FOMO Indicator\"].mean()\n",
        "solana[\"FOMO Indicator\"] = solana[\"FOMO Indicator\"].fillna(fomo_mean)\n",
        "volume_mean = solana[\"Volume\"].mean()\n",
        "solana[\"Volume\"] = solana[\"FOMO Indicator\"].replace(0, fomo_mean)"
      ],
      "metadata": {
        "id": "DKwcIMtpc_WZ"
      },
      "execution_count": 11,
      "outputs": []
    },
    {
      "cell_type": "code",
      "source": [
        "solana.isna().sum()"
      ],
      "metadata": {
        "id": "XU7vjiG8dl0U",
        "colab": {
          "base_uri": "https://localhost:8080/"
        },
        "outputId": "83311ad0-a2ff-4bf9-dfdb-fd7fff8bb8aa"
      },
      "execution_count": 12,
      "outputs": [
        {
          "output_type": "execute_result",
          "data": {
            "text/plain": [
              "Time                     0\n",
              "Open                     0\n",
              "High                     0\n",
              "Low                      0\n",
              "Close                    0\n",
              "Volume                   0\n",
              "Fear and Greed Index     0\n",
              "Histogram                0\n",
              "MACD                     0\n",
              "Signal                   0\n",
              "RSI                      0\n",
              "RSI-based MA             0\n",
              "Bollinger Bands Width    0\n",
              "FOMO Indicator           0\n",
              "dtype: int64"
            ]
          },
          "metadata": {},
          "execution_count": 12
        }
      ]
    },
    {
      "cell_type": "code",
      "source": [
        "# 5. Set the 'Time' for cardano to dataframe index\n",
        "cardano = cardano.set_index('Time')\n",
        "\n",
        "# Set the 'Time' for solana to dataframe index\n",
        "solana = solana.set_index('Time')\n"
      ],
      "metadata": {
        "id": "BJtUGypTE598"
      },
      "execution_count": 13,
      "outputs": []
    },
    {
      "cell_type": "code",
      "source": [
        "# Convert cardano index to Datetime\n",
        "cardano.index = pd.to_datetime(cardano.index)\n",
        "# Convert solana index to Datetime\n",
        "solana.index = pd.to_datetime(solana.index)"
      ],
      "metadata": {
        "id": "To-2l_dkIU-z"
      },
      "execution_count": 14,
      "outputs": []
    },
    {
      "cell_type": "code",
      "source": [
        "type(solana.index)"
      ],
      "metadata": {
        "id": "GiQz-pB1KSEZ",
        "colab": {
          "base_uri": "https://localhost:8080/"
        },
        "outputId": "dd5b9e1c-0be8-46e9-a6b5-65e57cf46718"
      },
      "execution_count": 15,
      "outputs": [
        {
          "output_type": "execute_result",
          "data": {
            "text/plain": [
              "pandas.core.indexes.datetimes.DatetimeIndex"
            ]
          },
          "metadata": {},
          "execution_count": 15
        }
      ]
    },
    {
      "cell_type": "markdown",
      "source": [
        "### Data Splitting"
      ],
      "metadata": {
        "id": "iMRGbpF-hmLq"
      }
    },
    {
      "cell_type": "code",
      "source": [
        "# 28423 rows for solana\n",
        "cardano.shape"
      ],
      "metadata": {
        "id": "BUiZa0jvuBjt",
        "colab": {
          "base_uri": "https://localhost:8080/"
        },
        "outputId": "e3621f8b-b559-4534-ca65-99c5549bbd53"
      },
      "execution_count": 16,
      "outputs": [
        {
          "output_type": "execute_result",
          "data": {
            "text/plain": [
              "(28423, 13)"
            ]
          },
          "metadata": {},
          "execution_count": 16
        }
      ]
    },
    {
      "cell_type": "code",
      "source": [
        "cardano"
      ],
      "metadata": {
        "id": "0eKeJuh0PCNi",
        "colab": {
          "base_uri": "https://localhost:8080/",
          "height": 690
        },
        "outputId": "e6bbb852-8fde-4c76-8a0a-2ed76dc7db12"
      },
      "execution_count": 17,
      "outputs": [
        {
          "output_type": "execute_result",
          "data": {
            "text/plain": [
              "                              Open     High      Low    Close      Volume  \\\n",
              "Time                                                                        \n",
              "2019-01-02 17:00:00+08:00  0.04213  0.04216  0.04176  0.04182   3035721.4   \n",
              "2019-01-02 18:00:00+08:00  0.04184  0.04275  0.04170  0.04253   4181561.3   \n",
              "2019-01-02 19:00:00+08:00  0.04253  0.04333  0.04230  0.04276  10775592.5   \n",
              "2019-01-02 20:00:00+08:00  0.04269  0.04289  0.04238  0.04288   4672057.6   \n",
              "2019-01-02 21:00:00+08:00  0.04288  0.04340  0.04269  0.04311   9564761.4   \n",
              "...                            ...      ...      ...      ...         ...   \n",
              "2022-04-03 08:00:00+08:00  1.15600  1.16900  1.15400  1.16100   4317775.5   \n",
              "2022-04-03 09:00:00+08:00  1.16100  1.16200  1.14200  1.15600   6533554.6   \n",
              "2022-04-03 10:00:00+08:00  1.15500  1.16000  1.14900  1.15300   2316847.1   \n",
              "2022-04-03 11:00:00+08:00  1.15300  1.16400  1.15100  1.15900   2218667.7   \n",
              "2022-04-03 12:00:00+08:00  1.15800  1.16300  1.15800  1.16200    906423.7   \n",
              "\n",
              "                           Fear and Greed Index  Histogram      MACD  \\\n",
              "Time                                                                   \n",
              "2019-01-02 17:00:00+08:00              0.000056  -0.000021  0.000398   \n",
              "2019-01-02 18:00:00+08:00              0.000032   0.000017  0.000441   \n",
              "2019-01-02 19:00:00+08:00              0.000095   0.000051  0.000488   \n",
              "2019-01-02 20:00:00+08:00              0.000201   0.000073  0.000528   \n",
              "2019-01-02 21:00:00+08:00              0.000239   0.000094  0.000572   \n",
              "...                                         ...        ...       ...   \n",
              "2022-04-03 08:00:00+08:00              0.001853  -0.002114 -0.003150   \n",
              "2022-04-03 09:00:00+08:00              0.002410  -0.002071 -0.003624   \n",
              "2022-04-03 10:00:00+08:00              0.001476  -0.002112 -0.004194   \n",
              "2022-04-03 11:00:00+08:00             -0.000468  -0.001626 -0.004114   \n",
              "2022-04-03 12:00:00+08:00              0.000009  -0.001021 -0.003765   \n",
              "\n",
              "                             Signal        RSI  RSI-based MA  \\\n",
              "Time                                                           \n",
              "2019-01-02 17:00:00+08:00  0.000419  58.964007     61.860057   \n",
              "2019-01-02 18:00:00+08:00  0.000424  66.290553     62.129106   \n",
              "2019-01-02 19:00:00+08:00  0.000436  68.267062     62.731770   \n",
              "2019-01-02 20:00:00+08:00  0.000455  69.279150     63.310224   \n",
              "2019-01-02 21:00:00+08:00  0.000478  71.176659     63.552029   \n",
              "...                             ...        ...           ...   \n",
              "2022-04-03 08:00:00+08:00 -0.001036  45.904212     47.240601   \n",
              "2022-04-03 09:00:00+08:00 -0.001554  43.394560     46.202277   \n",
              "2022-04-03 10:00:00+08:00 -0.002082  41.913902     45.058192   \n",
              "2022-04-03 11:00:00+08:00 -0.002488  45.890467     44.362401   \n",
              "2022-04-03 12:00:00+08:00 -0.002743  47.814192     44.018296   \n",
              "\n",
              "                           Bollinger Bands Width  FOMO Indicator  \n",
              "Time                                                              \n",
              "2019-01-02 17:00:00+08:00               0.060094    -5231.641531  \n",
              "2019-01-02 18:00:00+08:00               0.062255    -6140.108617  \n",
              "2019-01-02 19:00:00+08:00               0.063559    -9856.622293  \n",
              "2019-01-02 20:00:00+08:00               0.065529    -6490.244185  \n",
              "2019-01-02 21:00:00+08:00               0.065695    -9286.339305  \n",
              "...                                          ...             ...  \n",
              "2022-04-03 08:00:00+08:00               0.045768    -6239.314619  \n",
              "2022-04-03 09:00:00+08:00               0.046320    -7675.069240  \n",
              "2022-04-03 10:00:00+08:00               0.046466    -4570.412615  \n",
              "2022-04-03 11:00:00+08:00               0.045575    -4472.516140  \n",
              "2022-04-03 12:00:00+08:00               0.044754             NaN  \n",
              "\n",
              "[28423 rows x 13 columns]"
            ],
            "text/html": [
              "\n",
              "  <div id=\"df-7cbb83ec-9659-4420-84f4-56da9cd8f39f\">\n",
              "    <div class=\"colab-df-container\">\n",
              "      <div>\n",
              "<style scoped>\n",
              "    .dataframe tbody tr th:only-of-type {\n",
              "        vertical-align: middle;\n",
              "    }\n",
              "\n",
              "    .dataframe tbody tr th {\n",
              "        vertical-align: top;\n",
              "    }\n",
              "\n",
              "    .dataframe thead th {\n",
              "        text-align: right;\n",
              "    }\n",
              "</style>\n",
              "<table border=\"1\" class=\"dataframe\">\n",
              "  <thead>\n",
              "    <tr style=\"text-align: right;\">\n",
              "      <th></th>\n",
              "      <th>Open</th>\n",
              "      <th>High</th>\n",
              "      <th>Low</th>\n",
              "      <th>Close</th>\n",
              "      <th>Volume</th>\n",
              "      <th>Fear and Greed Index</th>\n",
              "      <th>Histogram</th>\n",
              "      <th>MACD</th>\n",
              "      <th>Signal</th>\n",
              "      <th>RSI</th>\n",
              "      <th>RSI-based MA</th>\n",
              "      <th>Bollinger Bands Width</th>\n",
              "      <th>FOMO Indicator</th>\n",
              "    </tr>\n",
              "    <tr>\n",
              "      <th>Time</th>\n",
              "      <th></th>\n",
              "      <th></th>\n",
              "      <th></th>\n",
              "      <th></th>\n",
              "      <th></th>\n",
              "      <th></th>\n",
              "      <th></th>\n",
              "      <th></th>\n",
              "      <th></th>\n",
              "      <th></th>\n",
              "      <th></th>\n",
              "      <th></th>\n",
              "      <th></th>\n",
              "    </tr>\n",
              "  </thead>\n",
              "  <tbody>\n",
              "    <tr>\n",
              "      <th>2019-01-02 17:00:00+08:00</th>\n",
              "      <td>0.04213</td>\n",
              "      <td>0.04216</td>\n",
              "      <td>0.04176</td>\n",
              "      <td>0.04182</td>\n",
              "      <td>3035721.4</td>\n",
              "      <td>0.000056</td>\n",
              "      <td>-0.000021</td>\n",
              "      <td>0.000398</td>\n",
              "      <td>0.000419</td>\n",
              "      <td>58.964007</td>\n",
              "      <td>61.860057</td>\n",
              "      <td>0.060094</td>\n",
              "      <td>-5231.641531</td>\n",
              "    </tr>\n",
              "    <tr>\n",
              "      <th>2019-01-02 18:00:00+08:00</th>\n",
              "      <td>0.04184</td>\n",
              "      <td>0.04275</td>\n",
              "      <td>0.04170</td>\n",
              "      <td>0.04253</td>\n",
              "      <td>4181561.3</td>\n",
              "      <td>0.000032</td>\n",
              "      <td>0.000017</td>\n",
              "      <td>0.000441</td>\n",
              "      <td>0.000424</td>\n",
              "      <td>66.290553</td>\n",
              "      <td>62.129106</td>\n",
              "      <td>0.062255</td>\n",
              "      <td>-6140.108617</td>\n",
              "    </tr>\n",
              "    <tr>\n",
              "      <th>2019-01-02 19:00:00+08:00</th>\n",
              "      <td>0.04253</td>\n",
              "      <td>0.04333</td>\n",
              "      <td>0.04230</td>\n",
              "      <td>0.04276</td>\n",
              "      <td>10775592.5</td>\n",
              "      <td>0.000095</td>\n",
              "      <td>0.000051</td>\n",
              "      <td>0.000488</td>\n",
              "      <td>0.000436</td>\n",
              "      <td>68.267062</td>\n",
              "      <td>62.731770</td>\n",
              "      <td>0.063559</td>\n",
              "      <td>-9856.622293</td>\n",
              "    </tr>\n",
              "    <tr>\n",
              "      <th>2019-01-02 20:00:00+08:00</th>\n",
              "      <td>0.04269</td>\n",
              "      <td>0.04289</td>\n",
              "      <td>0.04238</td>\n",
              "      <td>0.04288</td>\n",
              "      <td>4672057.6</td>\n",
              "      <td>0.000201</td>\n",
              "      <td>0.000073</td>\n",
              "      <td>0.000528</td>\n",
              "      <td>0.000455</td>\n",
              "      <td>69.279150</td>\n",
              "      <td>63.310224</td>\n",
              "      <td>0.065529</td>\n",
              "      <td>-6490.244185</td>\n",
              "    </tr>\n",
              "    <tr>\n",
              "      <th>2019-01-02 21:00:00+08:00</th>\n",
              "      <td>0.04288</td>\n",
              "      <td>0.04340</td>\n",
              "      <td>0.04269</td>\n",
              "      <td>0.04311</td>\n",
              "      <td>9564761.4</td>\n",
              "      <td>0.000239</td>\n",
              "      <td>0.000094</td>\n",
              "      <td>0.000572</td>\n",
              "      <td>0.000478</td>\n",
              "      <td>71.176659</td>\n",
              "      <td>63.552029</td>\n",
              "      <td>0.065695</td>\n",
              "      <td>-9286.339305</td>\n",
              "    </tr>\n",
              "    <tr>\n",
              "      <th>...</th>\n",
              "      <td>...</td>\n",
              "      <td>...</td>\n",
              "      <td>...</td>\n",
              "      <td>...</td>\n",
              "      <td>...</td>\n",
              "      <td>...</td>\n",
              "      <td>...</td>\n",
              "      <td>...</td>\n",
              "      <td>...</td>\n",
              "      <td>...</td>\n",
              "      <td>...</td>\n",
              "      <td>...</td>\n",
              "      <td>...</td>\n",
              "    </tr>\n",
              "    <tr>\n",
              "      <th>2022-04-03 08:00:00+08:00</th>\n",
              "      <td>1.15600</td>\n",
              "      <td>1.16900</td>\n",
              "      <td>1.15400</td>\n",
              "      <td>1.16100</td>\n",
              "      <td>4317775.5</td>\n",
              "      <td>0.001853</td>\n",
              "      <td>-0.002114</td>\n",
              "      <td>-0.003150</td>\n",
              "      <td>-0.001036</td>\n",
              "      <td>45.904212</td>\n",
              "      <td>47.240601</td>\n",
              "      <td>0.045768</td>\n",
              "      <td>-6239.314619</td>\n",
              "    </tr>\n",
              "    <tr>\n",
              "      <th>2022-04-03 09:00:00+08:00</th>\n",
              "      <td>1.16100</td>\n",
              "      <td>1.16200</td>\n",
              "      <td>1.14200</td>\n",
              "      <td>1.15600</td>\n",
              "      <td>6533554.6</td>\n",
              "      <td>0.002410</td>\n",
              "      <td>-0.002071</td>\n",
              "      <td>-0.003624</td>\n",
              "      <td>-0.001554</td>\n",
              "      <td>43.394560</td>\n",
              "      <td>46.202277</td>\n",
              "      <td>0.046320</td>\n",
              "      <td>-7675.069240</td>\n",
              "    </tr>\n",
              "    <tr>\n",
              "      <th>2022-04-03 10:00:00+08:00</th>\n",
              "      <td>1.15500</td>\n",
              "      <td>1.16000</td>\n",
              "      <td>1.14900</td>\n",
              "      <td>1.15300</td>\n",
              "      <td>2316847.1</td>\n",
              "      <td>0.001476</td>\n",
              "      <td>-0.002112</td>\n",
              "      <td>-0.004194</td>\n",
              "      <td>-0.002082</td>\n",
              "      <td>41.913902</td>\n",
              "      <td>45.058192</td>\n",
              "      <td>0.046466</td>\n",
              "      <td>-4570.412615</td>\n",
              "    </tr>\n",
              "    <tr>\n",
              "      <th>2022-04-03 11:00:00+08:00</th>\n",
              "      <td>1.15300</td>\n",
              "      <td>1.16400</td>\n",
              "      <td>1.15100</td>\n",
              "      <td>1.15900</td>\n",
              "      <td>2218667.7</td>\n",
              "      <td>-0.000468</td>\n",
              "      <td>-0.001626</td>\n",
              "      <td>-0.004114</td>\n",
              "      <td>-0.002488</td>\n",
              "      <td>45.890467</td>\n",
              "      <td>44.362401</td>\n",
              "      <td>0.045575</td>\n",
              "      <td>-4472.516140</td>\n",
              "    </tr>\n",
              "    <tr>\n",
              "      <th>2022-04-03 12:00:00+08:00</th>\n",
              "      <td>1.15800</td>\n",
              "      <td>1.16300</td>\n",
              "      <td>1.15800</td>\n",
              "      <td>1.16200</td>\n",
              "      <td>906423.7</td>\n",
              "      <td>0.000009</td>\n",
              "      <td>-0.001021</td>\n",
              "      <td>-0.003765</td>\n",
              "      <td>-0.002743</td>\n",
              "      <td>47.814192</td>\n",
              "      <td>44.018296</td>\n",
              "      <td>0.044754</td>\n",
              "      <td>NaN</td>\n",
              "    </tr>\n",
              "  </tbody>\n",
              "</table>\n",
              "<p>28423 rows × 13 columns</p>\n",
              "</div>\n",
              "      <button class=\"colab-df-convert\" onclick=\"convertToInteractive('df-7cbb83ec-9659-4420-84f4-56da9cd8f39f')\"\n",
              "              title=\"Convert this dataframe to an interactive table.\"\n",
              "              style=\"display:none;\">\n",
              "        \n",
              "  <svg xmlns=\"http://www.w3.org/2000/svg\" height=\"24px\"viewBox=\"0 0 24 24\"\n",
              "       width=\"24px\">\n",
              "    <path d=\"M0 0h24v24H0V0z\" fill=\"none\"/>\n",
              "    <path d=\"M18.56 5.44l.94 2.06.94-2.06 2.06-.94-2.06-.94-.94-2.06-.94 2.06-2.06.94zm-11 1L8.5 8.5l.94-2.06 2.06-.94-2.06-.94L8.5 2.5l-.94 2.06-2.06.94zm10 10l.94 2.06.94-2.06 2.06-.94-2.06-.94-.94-2.06-.94 2.06-2.06.94z\"/><path d=\"M17.41 7.96l-1.37-1.37c-.4-.4-.92-.59-1.43-.59-.52 0-1.04.2-1.43.59L10.3 9.45l-7.72 7.72c-.78.78-.78 2.05 0 2.83L4 21.41c.39.39.9.59 1.41.59.51 0 1.02-.2 1.41-.59l7.78-7.78 2.81-2.81c.8-.78.8-2.07 0-2.86zM5.41 20L4 18.59l7.72-7.72 1.47 1.35L5.41 20z\"/>\n",
              "  </svg>\n",
              "      </button>\n",
              "      \n",
              "  <style>\n",
              "    .colab-df-container {\n",
              "      display:flex;\n",
              "      flex-wrap:wrap;\n",
              "      gap: 12px;\n",
              "    }\n",
              "\n",
              "    .colab-df-convert {\n",
              "      background-color: #E8F0FE;\n",
              "      border: none;\n",
              "      border-radius: 50%;\n",
              "      cursor: pointer;\n",
              "      display: none;\n",
              "      fill: #1967D2;\n",
              "      height: 32px;\n",
              "      padding: 0 0 0 0;\n",
              "      width: 32px;\n",
              "    }\n",
              "\n",
              "    .colab-df-convert:hover {\n",
              "      background-color: #E2EBFA;\n",
              "      box-shadow: 0px 1px 2px rgba(60, 64, 67, 0.3), 0px 1px 3px 1px rgba(60, 64, 67, 0.15);\n",
              "      fill: #174EA6;\n",
              "    }\n",
              "\n",
              "    [theme=dark] .colab-df-convert {\n",
              "      background-color: #3B4455;\n",
              "      fill: #D2E3FC;\n",
              "    }\n",
              "\n",
              "    [theme=dark] .colab-df-convert:hover {\n",
              "      background-color: #434B5C;\n",
              "      box-shadow: 0px 1px 3px 1px rgba(0, 0, 0, 0.15);\n",
              "      filter: drop-shadow(0px 1px 2px rgba(0, 0, 0, 0.3));\n",
              "      fill: #FFFFFF;\n",
              "    }\n",
              "  </style>\n",
              "\n",
              "      <script>\n",
              "        const buttonEl =\n",
              "          document.querySelector('#df-7cbb83ec-9659-4420-84f4-56da9cd8f39f button.colab-df-convert');\n",
              "        buttonEl.style.display =\n",
              "          google.colab.kernel.accessAllowed ? 'block' : 'none';\n",
              "\n",
              "        async function convertToInteractive(key) {\n",
              "          const element = document.querySelector('#df-7cbb83ec-9659-4420-84f4-56da9cd8f39f');\n",
              "          const dataTable =\n",
              "            await google.colab.kernel.invokeFunction('convertToInteractive',\n",
              "                                                     [key], {});\n",
              "          if (!dataTable) return;\n",
              "\n",
              "          const docLinkHtml = 'Like what you see? Visit the ' +\n",
              "            '<a target=\"_blank\" href=https://colab.research.google.com/notebooks/data_table.ipynb>data table notebook</a>'\n",
              "            + ' to learn more about interactive tables.';\n",
              "          element.innerHTML = '';\n",
              "          dataTable['output_type'] = 'display_data';\n",
              "          await google.colab.output.renderOutput(dataTable, element);\n",
              "          const docLink = document.createElement('div');\n",
              "          docLink.innerHTML = docLinkHtml;\n",
              "          element.appendChild(docLink);\n",
              "        }\n",
              "      </script>\n",
              "    </div>\n",
              "  </div>\n",
              "  "
            ]
          },
          "metadata": {},
          "execution_count": 17
        }
      ]
    },
    {
      "cell_type": "code",
      "source": [
        "# 17281 rows for solana\n",
        "solana.shape"
      ],
      "metadata": {
        "id": "BrExN34stzQu",
        "colab": {
          "base_uri": "https://localhost:8080/"
        },
        "outputId": "95902b1f-3700-4fda-9ce5-1139acdb8a25"
      },
      "execution_count": 18,
      "outputs": [
        {
          "output_type": "execute_result",
          "data": {
            "text/plain": [
              "(14765, 13)"
            ]
          },
          "metadata": {},
          "execution_count": 18
        }
      ]
    },
    {
      "cell_type": "code",
      "source": [
        "# scaler = MinMaxScaler()\n",
        "# cardano_copy = scaler.fit_transform(cardano.values)"
      ],
      "metadata": {
        "id": "36ZqCwkYQAe4"
      },
      "execution_count": 19,
      "outputs": []
    },
    {
      "cell_type": "code",
      "source": [
        "# train_cardano = cardano_copy[:round(28423*0.8), :]\n",
        "# test_cardano = cardano_copy[round(28423*0.8):, :]"
      ],
      "metadata": {
        "id": "viSe-zkCQQCk"
      },
      "execution_count": 20,
      "outputs": []
    },
    {
      "cell_type": "code",
      "source": [
        "# Take 80% data for training, 20% for testing\n",
        "train_cardano = cardano.iloc[:round(28423*0.8), :]\n",
        "test_cardano = cardano.iloc[round(28423*0.8):, :]\n",
        "train_solana = solana.iloc[:round(14765*0.8), :]\n",
        "test_solana = solana.iloc[round(14765*0.8):, :]"
      ],
      "metadata": {
        "id": "Vvi9xlc_uUqP"
      },
      "execution_count": 21,
      "outputs": []
    },
    {
      "cell_type": "code",
      "source": [
        "\n",
        "# window_data = []\n",
        "# for idx in range(len(df) - window_len):\n",
        "#     tmp = df[idx: (idx + window_len)].copy()\n",
        "#     if zero_base:\n",
        "#         tmp = normalise_zero_base(tmp)\n",
        "    # scaler.fit(tmp)\n",
        "    # scaler.transform(tmp)\n",
        "\n",
        "\n",
        "\n",
        "# features = dfm[[\"open\",\"high\",\"low\",\"close\"]].values\n",
        "#   #print(features)\n",
        "# min_max_scaler = preprocessing.MinMaxScaler()\n",
        "# x_scaled = min_max_scaler.fit_transform(features)"
      ],
      "metadata": {
        "id": "4aJEy1OyIlMm"
      },
      "execution_count": 22,
      "outputs": []
    },
    {
      "cell_type": "code",
      "source": [
        "len(train_cardano) + len(test_cardano)"
      ],
      "metadata": {
        "id": "8chdete_upfl",
        "colab": {
          "base_uri": "https://localhost:8080/"
        },
        "outputId": "b2c1acf4-3ea0-441c-f59c-b5b3385ae286"
      },
      "execution_count": 23,
      "outputs": [
        {
          "output_type": "execute_result",
          "data": {
            "text/plain": [
              "28423"
            ]
          },
          "metadata": {},
          "execution_count": 23
        }
      ]
    },
    {
      "cell_type": "code",
      "source": [
        "len(train_solana) + len(test_solana)"
      ],
      "metadata": {
        "id": "KSeAnotKuvdZ",
        "colab": {
          "base_uri": "https://localhost:8080/"
        },
        "outputId": "5b8da792-2b1d-485b-b8a9-0a2a0017a02a"
      },
      "execution_count": 24,
      "outputs": [
        {
          "output_type": "execute_result",
          "data": {
            "text/plain": [
              "14765"
            ]
          },
          "metadata": {},
          "execution_count": 24
        }
      ]
    },
    {
      "cell_type": "code",
      "source": [
        "train_cardano.head()"
      ],
      "metadata": {
        "id": "LJlWH9w-qjpa",
        "colab": {
          "base_uri": "https://localhost:8080/",
          "height": 385
        },
        "outputId": "ca42e734-12d2-4bb2-a769-ef1f2ea5a071"
      },
      "execution_count": 25,
      "outputs": [
        {
          "output_type": "execute_result",
          "data": {
            "text/plain": [
              "                              Open     High      Low    Close      Volume  \\\n",
              "Time                                                                        \n",
              "2019-01-02 17:00:00+08:00  0.04213  0.04216  0.04176  0.04182   3035721.4   \n",
              "2019-01-02 18:00:00+08:00  0.04184  0.04275  0.04170  0.04253   4181561.3   \n",
              "2019-01-02 19:00:00+08:00  0.04253  0.04333  0.04230  0.04276  10775592.5   \n",
              "2019-01-02 20:00:00+08:00  0.04269  0.04289  0.04238  0.04288   4672057.6   \n",
              "2019-01-02 21:00:00+08:00  0.04288  0.04340  0.04269  0.04311   9564761.4   \n",
              "\n",
              "                           Fear and Greed Index  Histogram      MACD  \\\n",
              "Time                                                                   \n",
              "2019-01-02 17:00:00+08:00              0.000056  -0.000021  0.000398   \n",
              "2019-01-02 18:00:00+08:00              0.000032   0.000017  0.000441   \n",
              "2019-01-02 19:00:00+08:00              0.000095   0.000051  0.000488   \n",
              "2019-01-02 20:00:00+08:00              0.000201   0.000073  0.000528   \n",
              "2019-01-02 21:00:00+08:00              0.000239   0.000094  0.000572   \n",
              "\n",
              "                             Signal        RSI  RSI-based MA  \\\n",
              "Time                                                           \n",
              "2019-01-02 17:00:00+08:00  0.000419  58.964007     61.860057   \n",
              "2019-01-02 18:00:00+08:00  0.000424  66.290553     62.129106   \n",
              "2019-01-02 19:00:00+08:00  0.000436  68.267062     62.731770   \n",
              "2019-01-02 20:00:00+08:00  0.000455  69.279150     63.310224   \n",
              "2019-01-02 21:00:00+08:00  0.000478  71.176659     63.552029   \n",
              "\n",
              "                           Bollinger Bands Width  FOMO Indicator  \n",
              "Time                                                              \n",
              "2019-01-02 17:00:00+08:00               0.060094    -5231.641531  \n",
              "2019-01-02 18:00:00+08:00               0.062255    -6140.108617  \n",
              "2019-01-02 19:00:00+08:00               0.063559    -9856.622293  \n",
              "2019-01-02 20:00:00+08:00               0.065529    -6490.244185  \n",
              "2019-01-02 21:00:00+08:00               0.065695    -9286.339305  "
            ],
            "text/html": [
              "\n",
              "  <div id=\"df-fdb40651-b665-4535-ba87-290534a3b1e2\">\n",
              "    <div class=\"colab-df-container\">\n",
              "      <div>\n",
              "<style scoped>\n",
              "    .dataframe tbody tr th:only-of-type {\n",
              "        vertical-align: middle;\n",
              "    }\n",
              "\n",
              "    .dataframe tbody tr th {\n",
              "        vertical-align: top;\n",
              "    }\n",
              "\n",
              "    .dataframe thead th {\n",
              "        text-align: right;\n",
              "    }\n",
              "</style>\n",
              "<table border=\"1\" class=\"dataframe\">\n",
              "  <thead>\n",
              "    <tr style=\"text-align: right;\">\n",
              "      <th></th>\n",
              "      <th>Open</th>\n",
              "      <th>High</th>\n",
              "      <th>Low</th>\n",
              "      <th>Close</th>\n",
              "      <th>Volume</th>\n",
              "      <th>Fear and Greed Index</th>\n",
              "      <th>Histogram</th>\n",
              "      <th>MACD</th>\n",
              "      <th>Signal</th>\n",
              "      <th>RSI</th>\n",
              "      <th>RSI-based MA</th>\n",
              "      <th>Bollinger Bands Width</th>\n",
              "      <th>FOMO Indicator</th>\n",
              "    </tr>\n",
              "    <tr>\n",
              "      <th>Time</th>\n",
              "      <th></th>\n",
              "      <th></th>\n",
              "      <th></th>\n",
              "      <th></th>\n",
              "      <th></th>\n",
              "      <th></th>\n",
              "      <th></th>\n",
              "      <th></th>\n",
              "      <th></th>\n",
              "      <th></th>\n",
              "      <th></th>\n",
              "      <th></th>\n",
              "      <th></th>\n",
              "    </tr>\n",
              "  </thead>\n",
              "  <tbody>\n",
              "    <tr>\n",
              "      <th>2019-01-02 17:00:00+08:00</th>\n",
              "      <td>0.04213</td>\n",
              "      <td>0.04216</td>\n",
              "      <td>0.04176</td>\n",
              "      <td>0.04182</td>\n",
              "      <td>3035721.4</td>\n",
              "      <td>0.000056</td>\n",
              "      <td>-0.000021</td>\n",
              "      <td>0.000398</td>\n",
              "      <td>0.000419</td>\n",
              "      <td>58.964007</td>\n",
              "      <td>61.860057</td>\n",
              "      <td>0.060094</td>\n",
              "      <td>-5231.641531</td>\n",
              "    </tr>\n",
              "    <tr>\n",
              "      <th>2019-01-02 18:00:00+08:00</th>\n",
              "      <td>0.04184</td>\n",
              "      <td>0.04275</td>\n",
              "      <td>0.04170</td>\n",
              "      <td>0.04253</td>\n",
              "      <td>4181561.3</td>\n",
              "      <td>0.000032</td>\n",
              "      <td>0.000017</td>\n",
              "      <td>0.000441</td>\n",
              "      <td>0.000424</td>\n",
              "      <td>66.290553</td>\n",
              "      <td>62.129106</td>\n",
              "      <td>0.062255</td>\n",
              "      <td>-6140.108617</td>\n",
              "    </tr>\n",
              "    <tr>\n",
              "      <th>2019-01-02 19:00:00+08:00</th>\n",
              "      <td>0.04253</td>\n",
              "      <td>0.04333</td>\n",
              "      <td>0.04230</td>\n",
              "      <td>0.04276</td>\n",
              "      <td>10775592.5</td>\n",
              "      <td>0.000095</td>\n",
              "      <td>0.000051</td>\n",
              "      <td>0.000488</td>\n",
              "      <td>0.000436</td>\n",
              "      <td>68.267062</td>\n",
              "      <td>62.731770</td>\n",
              "      <td>0.063559</td>\n",
              "      <td>-9856.622293</td>\n",
              "    </tr>\n",
              "    <tr>\n",
              "      <th>2019-01-02 20:00:00+08:00</th>\n",
              "      <td>0.04269</td>\n",
              "      <td>0.04289</td>\n",
              "      <td>0.04238</td>\n",
              "      <td>0.04288</td>\n",
              "      <td>4672057.6</td>\n",
              "      <td>0.000201</td>\n",
              "      <td>0.000073</td>\n",
              "      <td>0.000528</td>\n",
              "      <td>0.000455</td>\n",
              "      <td>69.279150</td>\n",
              "      <td>63.310224</td>\n",
              "      <td>0.065529</td>\n",
              "      <td>-6490.244185</td>\n",
              "    </tr>\n",
              "    <tr>\n",
              "      <th>2019-01-02 21:00:00+08:00</th>\n",
              "      <td>0.04288</td>\n",
              "      <td>0.04340</td>\n",
              "      <td>0.04269</td>\n",
              "      <td>0.04311</td>\n",
              "      <td>9564761.4</td>\n",
              "      <td>0.000239</td>\n",
              "      <td>0.000094</td>\n",
              "      <td>0.000572</td>\n",
              "      <td>0.000478</td>\n",
              "      <td>71.176659</td>\n",
              "      <td>63.552029</td>\n",
              "      <td>0.065695</td>\n",
              "      <td>-9286.339305</td>\n",
              "    </tr>\n",
              "  </tbody>\n",
              "</table>\n",
              "</div>\n",
              "      <button class=\"colab-df-convert\" onclick=\"convertToInteractive('df-fdb40651-b665-4535-ba87-290534a3b1e2')\"\n",
              "              title=\"Convert this dataframe to an interactive table.\"\n",
              "              style=\"display:none;\">\n",
              "        \n",
              "  <svg xmlns=\"http://www.w3.org/2000/svg\" height=\"24px\"viewBox=\"0 0 24 24\"\n",
              "       width=\"24px\">\n",
              "    <path d=\"M0 0h24v24H0V0z\" fill=\"none\"/>\n",
              "    <path d=\"M18.56 5.44l.94 2.06.94-2.06 2.06-.94-2.06-.94-.94-2.06-.94 2.06-2.06.94zm-11 1L8.5 8.5l.94-2.06 2.06-.94-2.06-.94L8.5 2.5l-.94 2.06-2.06.94zm10 10l.94 2.06.94-2.06 2.06-.94-2.06-.94-.94-2.06-.94 2.06-2.06.94z\"/><path d=\"M17.41 7.96l-1.37-1.37c-.4-.4-.92-.59-1.43-.59-.52 0-1.04.2-1.43.59L10.3 9.45l-7.72 7.72c-.78.78-.78 2.05 0 2.83L4 21.41c.39.39.9.59 1.41.59.51 0 1.02-.2 1.41-.59l7.78-7.78 2.81-2.81c.8-.78.8-2.07 0-2.86zM5.41 20L4 18.59l7.72-7.72 1.47 1.35L5.41 20z\"/>\n",
              "  </svg>\n",
              "      </button>\n",
              "      \n",
              "  <style>\n",
              "    .colab-df-container {\n",
              "      display:flex;\n",
              "      flex-wrap:wrap;\n",
              "      gap: 12px;\n",
              "    }\n",
              "\n",
              "    .colab-df-convert {\n",
              "      background-color: #E8F0FE;\n",
              "      border: none;\n",
              "      border-radius: 50%;\n",
              "      cursor: pointer;\n",
              "      display: none;\n",
              "      fill: #1967D2;\n",
              "      height: 32px;\n",
              "      padding: 0 0 0 0;\n",
              "      width: 32px;\n",
              "    }\n",
              "\n",
              "    .colab-df-convert:hover {\n",
              "      background-color: #E2EBFA;\n",
              "      box-shadow: 0px 1px 2px rgba(60, 64, 67, 0.3), 0px 1px 3px 1px rgba(60, 64, 67, 0.15);\n",
              "      fill: #174EA6;\n",
              "    }\n",
              "\n",
              "    [theme=dark] .colab-df-convert {\n",
              "      background-color: #3B4455;\n",
              "      fill: #D2E3FC;\n",
              "    }\n",
              "\n",
              "    [theme=dark] .colab-df-convert:hover {\n",
              "      background-color: #434B5C;\n",
              "      box-shadow: 0px 1px 3px 1px rgba(0, 0, 0, 0.15);\n",
              "      filter: drop-shadow(0px 1px 2px rgba(0, 0, 0, 0.3));\n",
              "      fill: #FFFFFF;\n",
              "    }\n",
              "  </style>\n",
              "\n",
              "      <script>\n",
              "        const buttonEl =\n",
              "          document.querySelector('#df-fdb40651-b665-4535-ba87-290534a3b1e2 button.colab-df-convert');\n",
              "        buttonEl.style.display =\n",
              "          google.colab.kernel.accessAllowed ? 'block' : 'none';\n",
              "\n",
              "        async function convertToInteractive(key) {\n",
              "          const element = document.querySelector('#df-fdb40651-b665-4535-ba87-290534a3b1e2');\n",
              "          const dataTable =\n",
              "            await google.colab.kernel.invokeFunction('convertToInteractive',\n",
              "                                                     [key], {});\n",
              "          if (!dataTable) return;\n",
              "\n",
              "          const docLinkHtml = 'Like what you see? Visit the ' +\n",
              "            '<a target=\"_blank\" href=https://colab.research.google.com/notebooks/data_table.ipynb>data table notebook</a>'\n",
              "            + ' to learn more about interactive tables.';\n",
              "          element.innerHTML = '';\n",
              "          dataTable['output_type'] = 'display_data';\n",
              "          await google.colab.output.renderOutput(dataTable, element);\n",
              "          const docLink = document.createElement('div');\n",
              "          docLink.innerHTML = docLinkHtml;\n",
              "          element.appendChild(docLink);\n",
              "        }\n",
              "      </script>\n",
              "    </div>\n",
              "  </div>\n",
              "  "
            ]
          },
          "metadata": {},
          "execution_count": 25
        }
      ]
    },
    {
      "cell_type": "markdown",
      "source": [
        "### Context"
      ],
      "metadata": {
        "id": "0pNyuEGavjek"
      }
    },
    {
      "cell_type": "markdown",
      "source": [
        "**1. Crypto Basic Information**\n",
        "- **Time**: Time period\n",
        "- **Open**: Price at which the crypto began in the time period\n",
        "- **High**: Max price in the time priod\n",
        "- **Low**: Min price in the time priod\n",
        "- **Close**: Price at which the crypto ended in the time period\n",
        "- **Volume**: Sum total of actual trades taking place in the time period\n",
        "\n",
        "**2. Techinical Analysis Indicators**\n",
        "- **Moving Average Convergence Divergence (MACD)**\n",
        "  - Histogram\n",
        "  - MACD\n",
        "  - Signal\n",
        "- **Relative Strength Index (RSI)**\n",
        "  - RSI\n",
        "  - RSI-based MA\n",
        "- **Bollinger Bands Width**\n",
        "\n",
        "**3. Cryptocurrency Social Media Indicator**\n",
        "- **Crypto FOMO Indicator**\n",
        "- **The Fear and Greed Index**"
      ],
      "metadata": {
        "id": "rMfqlu3evlAo"
      }
    },
    {
      "cell_type": "markdown",
      "source": [
        "### Data Visualization and Preparation"
      ],
      "metadata": {
        "id": "5ocqH6jxhsYu"
      }
    },
    {
      "cell_type": "code",
      "source": [
        "def line_plot(line1, line2, label1=None, label2=None, title='', lw=2):\n",
        "    fig, ax = plt.subplots(1, figsize=(13, 7))\n",
        "    ax.plot(line1, label=label1, linewidth=lw)\n",
        "    ax.plot(line2, label=label2, linewidth=lw)\n",
        "    ax.set_ylabel('price', fontsize=14)\n",
        "    ax.set_title(title, fontsize=16)\n",
        "    ax.legend(loc='best', fontsize=16);"
      ],
      "metadata": {
        "id": "1TvyDSYmn75w"
      },
      "execution_count": 26,
      "outputs": []
    },
    {
      "cell_type": "code",
      "source": [
        "def line_plot_v2(line1, line2, line3, label1=None, label2=None, label3=None, title='', lw=2):\n",
        "    fig, ax = plt.subplots(1, figsize=(13, 7))\n",
        "    ax.plot(line1, label=label1, linewidth=lw)\n",
        "    ax.plot(line2, label=label2, linewidth=lw)\n",
        "    ax.plot(line3, label=label3, linewidth=lw)\n",
        "    ax.set_ylabel('price', fontsize=14)\n",
        "    ax.set_title(title, fontsize=16)\n",
        "    ax.legend(loc='best', fontsize=16);"
      ],
      "metadata": {
        "id": "fPJJxGZAnIkQ"
      },
      "execution_count": 27,
      "outputs": []
    },
    {
      "cell_type": "code",
      "source": [
        "target_col = 'Close'"
      ],
      "metadata": {
        "id": "4UmYZ6R9oUpW"
      },
      "execution_count": 28,
      "outputs": []
    },
    {
      "cell_type": "code",
      "source": [
        "# line_plot(train_cardano[:, 3], test_cardano[:, 3], 'training', 'test', title='Cardano')"
      ],
      "metadata": {
        "id": "z53uXfdRSKwh"
      },
      "execution_count": 29,
      "outputs": []
    },
    {
      "cell_type": "code",
      "source": [
        "line_plot_v2(train_cardano.iloc[:round(len(train_cardano)*0.8), :][target_col], train_cardano.iloc[round(len(train_cardano)*0.8):, :][target_col], test_cardano[target_col], 'training', 'validation', 'test', title='Cardano')"
      ],
      "metadata": {
        "id": "fLfm28FXoWrG",
        "colab": {
          "base_uri": "https://localhost:8080/",
          "height": 446
        },
        "outputId": "9456f3ac-f62f-4b24-d418-a40625f90076"
      },
      "execution_count": 30,
      "outputs": [
        {
          "output_type": "display_data",
          "data": {
            "text/plain": [
              "<Figure size 936x504 with 1 Axes>"
            ],
            "image/png": "[encoded data removed]"
          },
          "metadata": {
            "needs_background": "light"
          }
        }
      ]
    },
    {
      "cell_type": "code",
      "source": [
        "train_cardano.head()"
      ],
      "metadata": {
        "id": "rgbxyXH0S8Bt",
        "colab": {
          "base_uri": "https://localhost:8080/",
          "height": 385
        },
        "outputId": "97a504d0-62a3-4100-e716-ae44c35c7fe5"
      },
      "execution_count": 31,
      "outputs": [
        {
          "output_type": "execute_result",
          "data": {
            "text/plain": [
              "                              Open     High      Low    Close      Volume  \\\n",
              "Time                                                                        \n",
              "2019-01-02 17:00:00+08:00  0.04213  0.04216  0.04176  0.04182   3035721.4   \n",
              "2019-01-02 18:00:00+08:00  0.04184  0.04275  0.04170  0.04253   4181561.3   \n",
              "2019-01-02 19:00:00+08:00  0.04253  0.04333  0.04230  0.04276  10775592.5   \n",
              "2019-01-02 20:00:00+08:00  0.04269  0.04289  0.04238  0.04288   4672057.6   \n",
              "2019-01-02 21:00:00+08:00  0.04288  0.04340  0.04269  0.04311   9564761.4   \n",
              "\n",
              "                           Fear and Greed Index  Histogram      MACD  \\\n",
              "Time                                                                   \n",
              "2019-01-02 17:00:00+08:00              0.000056  -0.000021  0.000398   \n",
              "2019-01-02 18:00:00+08:00              0.000032   0.000017  0.000441   \n",
              "2019-01-02 19:00:00+08:00              0.000095   0.000051  0.000488   \n",
              "2019-01-02 20:00:00+08:00              0.000201   0.000073  0.000528   \n",
              "2019-01-02 21:00:00+08:00              0.000239   0.000094  0.000572   \n",
              "\n",
              "                             Signal        RSI  RSI-based MA  \\\n",
              "Time                                                           \n",
              "2019-01-02 17:00:00+08:00  0.000419  58.964007     61.860057   \n",
              "2019-01-02 18:00:00+08:00  0.000424  66.290553     62.129106   \n",
              "2019-01-02 19:00:00+08:00  0.000436  68.267062     62.731770   \n",
              "2019-01-02 20:00:00+08:00  0.000455  69.279150     63.310224   \n",
              "2019-01-02 21:00:00+08:00  0.000478  71.176659     63.552029   \n",
              "\n",
              "                           Bollinger Bands Width  FOMO Indicator  \n",
              "Time                                                              \n",
              "2019-01-02 17:00:00+08:00               0.060094    -5231.641531  \n",
              "2019-01-02 18:00:00+08:00               0.062255    -6140.108617  \n",
              "2019-01-02 19:00:00+08:00               0.063559    -9856.622293  \n",
              "2019-01-02 20:00:00+08:00               0.065529    -6490.244185  \n",
              "2019-01-02 21:00:00+08:00               0.065695    -9286.339305  "
            ],
            "text/html": [
              "\n",
              "  <div id=\"df-b7fb11c6-6b5e-4b0a-9d85-9686a6c1ff5f\">\n",
              "    <div class=\"colab-df-container\">\n",
              "      <div>\n",
              "<style scoped>\n",
              "    .dataframe tbody tr th:only-of-type {\n",
              "        vertical-align: middle;\n",
              "    }\n",
              "\n",
              "    .dataframe tbody tr th {\n",
              "        vertical-align: top;\n",
              "    }\n",
              "\n",
              "    .dataframe thead th {\n",
              "        text-align: right;\n",
              "    }\n",
              "</style>\n",
              "<table border=\"1\" class=\"dataframe\">\n",
              "  <thead>\n",
              "    <tr style=\"text-align: right;\">\n",
              "      <th></th>\n",
              "      <th>Open</th>\n",
              "      <th>High</th>\n",
              "      <th>Low</th>\n",
              "      <th>Close</th>\n",
              "      <th>Volume</th>\n",
              "      <th>Fear and Greed Index</th>\n",
              "      <th>Histogram</th>\n",
              "      <th>MACD</th>\n",
              "      <th>Signal</th>\n",
              "      <th>RSI</th>\n",
              "      <th>RSI-based MA</th>\n",
              "      <th>Bollinger Bands Width</th>\n",
              "      <th>FOMO Indicator</th>\n",
              "    </tr>\n",
              "    <tr>\n",
              "      <th>Time</th>\n",
              "      <th></th>\n",
              "      <th></th>\n",
              "      <th></th>\n",
              "      <th></th>\n",
              "      <th></th>\n",
              "      <th></th>\n",
              "      <th></th>\n",
              "      <th></th>\n",
              "      <th></th>\n",
              "      <th></th>\n",
              "      <th></th>\n",
              "      <th></th>\n",
              "      <th></th>\n",
              "    </tr>\n",
              "  </thead>\n",
              "  <tbody>\n",
              "    <tr>\n",
              "      <th>2019-01-02 17:00:00+08:00</th>\n",
              "      <td>0.04213</td>\n",
              "      <td>0.04216</td>\n",
              "      <td>0.04176</td>\n",
              "      <td>0.04182</td>\n",
              "      <td>3035721.4</td>\n",
              "      <td>0.000056</td>\n",
              "      <td>-0.000021</td>\n",
              "      <td>0.000398</td>\n",
              "      <td>0.000419</td>\n",
              "      <td>58.964007</td>\n",
              "      <td>61.860057</td>\n",
              "      <td>0.060094</td>\n",
              "      <td>-5231.641531</td>\n",
              "    </tr>\n",
              "    <tr>\n",
              "      <th>2019-01-02 18:00:00+08:00</th>\n",
              "      <td>0.04184</td>\n",
              "      <td>0.04275</td>\n",
              "      <td>0.04170</td>\n",
              "      <td>0.04253</td>\n",
              "      <td>4181561.3</td>\n",
              "      <td>0.000032</td>\n",
              "      <td>0.000017</td>\n",
              "      <td>0.000441</td>\n",
              "      <td>0.000424</td>\n",
              "      <td>66.290553</td>\n",
              "      <td>62.129106</td>\n",
              "      <td>0.062255</td>\n",
              "      <td>-6140.108617</td>\n",
              "    </tr>\n",
              "    <tr>\n",
              "      <th>2019-01-02 19:00:00+08:00</th>\n",
              "      <td>0.04253</td>\n",
              "      <td>0.04333</td>\n",
              "      <td>0.04230</td>\n",
              "      <td>0.04276</td>\n",
              "      <td>10775592.5</td>\n",
              "      <td>0.000095</td>\n",
              "      <td>0.000051</td>\n",
              "      <td>0.000488</td>\n",
              "      <td>0.000436</td>\n",
              "      <td>68.267062</td>\n",
              "      <td>62.731770</td>\n",
              "      <td>0.063559</td>\n",
              "      <td>-9856.622293</td>\n",
              "    </tr>\n",
              "    <tr>\n",
              "      <th>2019-01-02 20:00:00+08:00</th>\n",
              "      <td>0.04269</td>\n",
              "      <td>0.04289</td>\n",
              "      <td>0.04238</td>\n",
              "      <td>0.04288</td>\n",
              "      <td>4672057.6</td>\n",
              "      <td>0.000201</td>\n",
              "      <td>0.000073</td>\n",
              "      <td>0.000528</td>\n",
              "      <td>0.000455</td>\n",
              "      <td>69.279150</td>\n",
              "      <td>63.310224</td>\n",
              "      <td>0.065529</td>\n",
              "      <td>-6490.244185</td>\n",
              "    </tr>\n",
              "    <tr>\n",
              "      <th>2019-01-02 21:00:00+08:00</th>\n",
              "      <td>0.04288</td>\n",
              "      <td>0.04340</td>\n",
              "      <td>0.04269</td>\n",
              "      <td>0.04311</td>\n",
              "      <td>9564761.4</td>\n",
              "      <td>0.000239</td>\n",
              "      <td>0.000094</td>\n",
              "      <td>0.000572</td>\n",
              "      <td>0.000478</td>\n",
              "      <td>71.176659</td>\n",
              "      <td>63.552029</td>\n",
              "      <td>0.065695</td>\n",
              "      <td>-9286.339305</td>\n",
              "    </tr>\n",
              "  </tbody>\n",
              "</table>\n",
              "</div>\n",
              "      <button class=\"colab-df-convert\" onclick=\"convertToInteractive('df-b7fb11c6-6b5e-4b0a-9d85-9686a6c1ff5f')\"\n",
              "              title=\"Convert this dataframe to an interactive table.\"\n",
              "              style=\"display:none;\">\n",
              "        \n",
              "  <svg xmlns=\"http://www.w3.org/2000/svg\" height=\"24px\"viewBox=\"0 0 24 24\"\n",
              "       width=\"24px\">\n",
              "    <path d=\"M0 0h24v24H0V0z\" fill=\"none\"/>\n",
              "    <path d=\"M18.56 5.44l.94 2.06.94-2.06 2.06-.94-2.06-.94-.94-2.06-.94 2.06-2.06.94zm-11 1L8.5 8.5l.94-2.06 2.06-.94-2.06-.94L8.5 2.5l-.94 2.06-2.06.94zm10 10l.94 2.06.94-2.06 2.06-.94-2.06-.94-.94-2.06-.94 2.06-2.06.94z\"/><path d=\"M17.41 7.96l-1.37-1.37c-.4-.4-.92-.59-1.43-.59-.52 0-1.04.2-1.43.59L10.3 9.45l-7.72 7.72c-.78.78-.78 2.05 0 2.83L4 21.41c.39.39.9.59 1.41.59.51 0 1.02-.2 1.41-.59l7.78-7.78 2.81-2.81c.8-.78.8-2.07 0-2.86zM5.41 20L4 18.59l7.72-7.72 1.47 1.35L5.41 20z\"/>\n",
              "  </svg>\n",
              "      </button>\n",
              "      \n",
              "  <style>\n",
              "    .colab-df-container {\n",
              "      display:flex;\n",
              "      flex-wrap:wrap;\n",
              "      gap: 12px;\n",
              "    }\n",
              "\n",
              "    .colab-df-convert {\n",
              "      background-color: #E8F0FE;\n",
              "      border: none;\n",
              "      border-radius: 50%;\n",
              "      cursor: pointer;\n",
              "      display: none;\n",
              "      fill: #1967D2;\n",
              "      height: 32px;\n",
              "      padding: 0 0 0 0;\n",
              "      width: 32px;\n",
              "    }\n",
              "\n",
              "    .colab-df-convert:hover {\n",
              "      background-color: #E2EBFA;\n",
              "      box-shadow: 0px 1px 2px rgba(60, 64, 67, 0.3), 0px 1px 3px 1px rgba(60, 64, 67, 0.15);\n",
              "      fill: #174EA6;\n",
              "    }\n",
              "\n",
              "    [theme=dark] .colab-df-convert {\n",
              "      background-color: #3B4455;\n",
              "      fill: #D2E3FC;\n",
              "    }\n",
              "\n",
              "    [theme=dark] .colab-df-convert:hover {\n",
              "      background-color: #434B5C;\n",
              "      box-shadow: 0px 1px 3px 1px rgba(0, 0, 0, 0.15);\n",
              "      filter: drop-shadow(0px 1px 2px rgba(0, 0, 0, 0.3));\n",
              "      fill: #FFFFFF;\n",
              "    }\n",
              "  </style>\n",
              "\n",
              "      <script>\n",
              "        const buttonEl =\n",
              "          document.querySelector('#df-b7fb11c6-6b5e-4b0a-9d85-9686a6c1ff5f button.colab-df-convert');\n",
              "        buttonEl.style.display =\n",
              "          google.colab.kernel.accessAllowed ? 'block' : 'none';\n",
              "\n",
              "        async function convertToInteractive(key) {\n",
              "          const element = document.querySelector('#df-b7fb11c6-6b5e-4b0a-9d85-9686a6c1ff5f');\n",
              "          const dataTable =\n",
              "            await google.colab.kernel.invokeFunction('convertToInteractive',\n",
              "                                                     [key], {});\n",
              "          if (!dataTable) return;\n",
              "\n",
              "          const docLinkHtml = 'Like what you see? Visit the ' +\n",
              "            '<a target=\"_blank\" href=https://colab.research.google.com/notebooks/data_table.ipynb>data table notebook</a>'\n",
              "            + ' to learn more about interactive tables.';\n",
              "          element.innerHTML = '';\n",
              "          dataTable['output_type'] = 'display_data';\n",
              "          await google.colab.output.renderOutput(dataTable, element);\n",
              "          const docLink = document.createElement('div');\n",
              "          docLink.innerHTML = docLinkHtml;\n",
              "          element.appendChild(docLink);\n",
              "        }\n",
              "      </script>\n",
              "    </div>\n",
              "  </div>\n",
              "  "
            ]
          },
          "metadata": {},
          "execution_count": 31
        }
      ]
    },
    {
      "cell_type": "code",
      "source": [
        "line_plot_v2(train_solana.iloc[:round(len(train_solana)*0.8), :][target_col], train_solana.iloc[round(len(train_solana)*0.8):, :][target_col], test_solana[target_col], 'training', 'validation', 'test', title='Solana')"
      ],
      "metadata": {
        "id": "iDyHa5xoorGG",
        "colab": {
          "base_uri": "https://localhost:8080/",
          "height": 446
        },
        "outputId": "978afc65-d68f-4114-9986-4867f74067bb"
      },
      "execution_count": 32,
      "outputs": [
        {
          "output_type": "display_data",
          "data": {
            "text/plain": [
              "<Figure size 936x504 with 1 Axes>"
            ],
            "image/png": "[encoded data removed]"
          },
          "metadata": {
            "needs_background": "light"
          }
        }
      ]
    },
    {
      "cell_type": "code",
      "source": [
        "def normalise_by_first_line(df):\n",
        "    # print(df.iloc[0])\n",
        "    return df / df.iloc[0]"
      ],
      "metadata": {
        "id": "fKJkpWaRpiAN"
      },
      "execution_count": 33,
      "outputs": []
    },
    {
      "cell_type": "code",
      "source": [
        "def get_data(df, window_len, zero_base):\n",
        "    window_data = []\n",
        "    for idx in range(len(df) - window_len):\n",
        "        tmp = df[idx: (idx + window_len)].copy()\n",
        "        if zero_base:\n",
        "          tmp = normalise_by_first_line(tmp)\n",
        "        window_data.append(tmp.values)\n",
        "    return np.array(window_data)"
      ],
      "metadata": {
        "id": "E5cdIQzYpk-l"
      },
      "execution_count": 34,
      "outputs": []
    },
    {
      "cell_type": "code",
      "source": [
        "def prepare_data(df, target_col, window_len=10, zero_base=True):\n",
        "    # train validation split\n",
        "    train_data = df.iloc[:round(len(df)*0.8), :]\n",
        "    test_data = df.iloc[round(len(df)*0.8):, :]\n",
        "\n",
        "    X_train = get_data(train_data, window_len, zero_base)\n",
        "    X_test = get_data(test_data, window_len, zero_base)\n",
        "    y_train = train_data[target_col][window_len:].values\n",
        "    y_test = test_data[target_col][window_len:].values\n",
        "    if zero_base:\n",
        "      y_train = y_train / train_data[target_col][:-window_len].values - 1\n",
        "      y_test = y_test / test_data[target_col][:-window_len].values - 1\n",
        "    return train_data, test_data, X_train, X_test, y_train, y_test"
      ],
      "metadata": {
        "id": "YEe1II2xO_fP"
      },
      "execution_count": null,
      "outputs": []
    },
    {
      "cell_type": "code",
      "source": [
        "from sklearn.preprocessing import MinMaxScaler"
      ],
      "metadata": {
        "id": "YMPilc4Y0Do4"
      },
      "execution_count": 35,
      "outputs": []
    },
    {
      "cell_type": "code",
      "source": [
        "def prepare_test(df, target_col, window_len=10, zero_base=True):\n",
        "    X_test = get_data(df, window_len, zero_base)\n",
        "    y_test = df[target_col][window_len:].values\n",
        "    if zero_base:\n",
        "      y_test = y_test / df[target_col][:-window_len].values - 1\n",
        "    return X_test, y_test"
      ],
      "metadata": {
        "id": "riKPJB0OUqKM"
      },
      "execution_count": 39,
      "outputs": []
    },
    {
      "cell_type": "markdown",
      "source": [
        "##### Evaluation"
      ],
      "metadata": {
        "id": "JNWJ5CvoT38l"
      }
    },
    {
      "cell_type": "code",
      "source": [
        "def SMAPE(actual, pred) -> float:\n",
        "\n",
        "    assert actual.shape == pred.shape\n",
        "  \n",
        "    return round(\n",
        "        np.mean(np.abs(pred - actual) / \n",
        "                ((np.abs(pred) + np.abs(actual))/2))*100, 2)"
      ],
      "metadata": {
        "id": "6DPCl06i354W"
      },
      "execution_count": 41,
      "outputs": []
    },
    {
      "cell_type": "code",
      "source": [
        "from sklearn.metrics import mean_squared_error, mean_absolute_percentage_error"
      ],
      "metadata": {
        "id": "lw4Q_zz13zxh"
      },
      "execution_count": 42,
      "outputs": []
    },
    {
      "cell_type": "code",
      "source": [
        "def evaluate(model, X_test, y_test, test_data, norm = True):\n",
        "    # targets = test[target_col][window_len:]\n",
        "    y_pred = model.predict(X_test).squeeze()\n",
        "    if norm:\n",
        "      y_pred = test_data[target_col].values[:-window_len] * (y_pred + 1)\n",
        "      # y_pred = pd.Series(index=targets.index, data=y_pred)\n",
        "      y_test = test_data[target_col].values[:-window_len] * (y_test + 1)\n",
        "\n",
        "    # RMSE\n",
        "    rmse = np.sqrt(mean_squared_error(y_test, y_pred))\n",
        "\n",
        "    # MAPE\n",
        "    mape = mean_absolute_percentage_error(y_test, y_pred)\n",
        "\n",
        "    # SMAPE\n",
        "    smape = SMAPE(y_test, y_pred)\n",
        "\n",
        "    # Trend Prediction Accuracy\n",
        "    pred_trend = ((y_pred[1:] - y_test[:-1]) >= 0)\n",
        "    actual_trend = ((y_test[1:] - y_test[:-1]) >= 0)\n",
        "    trend_pred_acc = np.sum(pred_trend == actual_trend)/len(pred_trend)\n",
        "\n",
        "    print(\"RMSE: {}\".format(rmse))\n",
        "    print(\"MAPE: {}%\".format(mape*100))\n",
        "    print(\"sMAPE: {}%\".format(smape))\n",
        "    print(\"Trend Prediction Accuracy: {}\".format(trend_pred_acc))"
      ],
      "metadata": {
        "id": "A8Dal1DulY3h"
      },
      "execution_count": 43,
      "outputs": []
    },
    {
      "cell_type": "markdown",
      "source": [
        "### Models"
      ],
      "metadata": {
        "id": "aDmXYpMQM89j"
      }
    },
    {
      "cell_type": "markdown",
      "source": [
        "#### LSTM"
      ],
      "metadata": {
        "id": "l2OPHhQPNClb"
      }
    },
    {
      "cell_type": "code",
      "source": [
        "%tensorflow_version 2.x\n",
        "import json\n",
        "import requests\n",
        "import tensorflow\n",
        "from keras.models import Sequential\n",
        "from keras.layers import Activation, Dense, Dropout, LSTM, GRU\n",
        "import keras.losses as kr\n",
        "from tensorflow.keras.optimizers import Adam\n",
        "import matplotlib.pyplot as plt\n",
        "import numpy as np\n",
        "import pandas as pd\n",
        "import seaborn as sns\n",
        "from sklearn.metrics import mean_absolute_error\n",
        "%matplotlib inline"
      ],
      "metadata": {
        "id": "JIBMmnAkr6hC"
      },
      "execution_count": 44,
      "outputs": []
    },
    {
      "cell_type": "code",
      "source": [
        "def build_lstm_model(input_data, output_size, neurons=100, activ_func='linear',\n",
        "                     dropout=0.2, loss='mse', optimizer='adam'):\n",
        "    model = Sequential()\n",
        "    # print('hi0')\n",
        "    model.add(LSTM(neurons, input_shape = (input_data.shape[1], input_data.shape[2])))\n",
        "    # print('hi1')\n",
        "    model.add(Dropout(dropout))\n",
        "    # print('hi2')\n",
        "    model.add(Dense(units=output_size))\n",
        "    model.add(Activation(activ_func))\n",
        "    model.compile(loss=loss, optimizer=optimizer)\n",
        "    return model"
      ],
      "metadata": {
        "id": "P5HvFZ4Fr202"
      },
      "execution_count": 45,
      "outputs": []
    },
    {
      "cell_type": "markdown",
      "source": [
        "##### *training on Cardano*"
      ],
      "metadata": {
        "id": "eVhzmM54_qFs"
      }
    },
    {
      "cell_type": "code",
      "source": [
        "np.random.seed(42)\n",
        "window_len = 5\n",
        "# test_size = 0.2\n",
        "zero_base = True\n",
        "lstm_neurons = 100\n",
        "epochs = 20\n",
        "batch_size = 128\n",
        "loss = kr.MeanAbsoluteError()\n",
        "dropout = 0.2\n",
        "adam = Adam(learning_rate=0.0001)\n",
        "optimizer = adam"
      ],
      "metadata": {
        "id": "pnWpAw1vsBIM"
      },
      "execution_count": 46,
      "outputs": []
    },
    {
      "cell_type": "code",
      "source": [
        "train_cardano.shape"
      ],
      "metadata": {
        "id": "j3pgv76XUlHP",
        "colab": {
          "base_uri": "https://localhost:8080/"
        },
        "outputId": "0310e130-e90f-40c4-b3e1-802da2952d56"
      },
      "execution_count": 47,
      "outputs": [
        {
          "output_type": "execute_result",
          "data": {
            "text/plain": [
              "(22738, 13)"
            ]
          },
          "metadata": {},
          "execution_count": 47
        }
      ]
    },
    {
      "cell_type": "code",
      "source": [
        "# if zero_base:\n",
        "train, val, X_train, X_val, y_train, y_val = prepare_data(train_cardano, target_col, window_len=window_len, zero_base=zero_base)"
      ],
      "metadata": {
        "id": "o38tF63zseAp"
      },
      "execution_count": 48,
      "outputs": []
    },
    {
      "cell_type": "code",
      "source": [
        "X_train"
      ],
      "metadata": {
        "id": "6ysz7zYbg4jz"
      },
      "execution_count": null,
      "outputs": []
    },
    {
      "cell_type": "code",
      "source": [
        "y_val.shape"
      ],
      "metadata": {
        "id": "RurSj-sIcREX",
        "colab": {
          "base_uri": "https://localhost:8080/"
        },
        "outputId": "aaa935f6-32aa-4fce-b549-ca2fcbebc669"
      },
      "execution_count": 50,
      "outputs": [
        {
          "output_type": "execute_result",
          "data": {
            "text/plain": [
              "(4543,)"
            ]
          },
          "metadata": {},
          "execution_count": 50
        }
      ]
    },
    {
      "cell_type": "code",
      "source": [
        "cardano_lstm = build_lstm_model(X_train, output_size=1, neurons=lstm_neurons, dropout=dropout, loss=loss, optimizer=optimizer)\n",
        "history = cardano_lstm.fit(X_train.astype(np.float32), y_train.astype(np.float32), validation_data=(X_val.astype(np.float32), y_val.astype(np.float32)), epochs=epochs, batch_size=batch_size, verbose=1, shuffle=True)"
      ],
      "metadata": {
        "id": "M0x6-jzNuasw",
        "colab": {
          "base_uri": "https://localhost:8080/"
        },
        "outputId": "9c630d1b-ecb0-4337-94c7-0dff6c6686d9"
      },
      "execution_count": 51,
      "outputs": [
        {
          "output_type": "stream",
          "name": "stdout",
          "text": [
            "Epoch 1/20\n",
            "143/143 [==============================] - 3s 7ms/step - loss: 0.1337 - val_loss: 0.0393\n",
            "Epoch 2/20\n",
            "143/143 [==============================] - 1s 4ms/step - loss: 0.0961 - val_loss: 0.0318\n",
            "Epoch 3/20\n",
            "143/143 [==============================] - 1s 4ms/step - loss: 0.0792 - val_loss: 0.0293\n",
            "Epoch 4/20\n",
            "143/143 [==============================] - 1s 5ms/step - loss: 0.0663 - val_loss: 0.0277\n",
            "Epoch 5/20\n",
            "143/143 [==============================] - 1s 5ms/step - loss: 0.0579 - val_loss: 0.0260\n",
            "Epoch 6/20\n",
            "143/143 [==============================] - 1s 4ms/step - loss: 0.0506 - val_loss: 0.0247\n",
            "Epoch 7/20\n",
            "143/143 [==============================] - 1s 5ms/step - loss: 0.0452 - val_loss: 0.0241\n",
            "Epoch 8/20\n",
            "143/143 [==============================] - 1s 5ms/step - loss: 0.0404 - val_loss: 0.0234\n",
            "Epoch 9/20\n",
            "143/143 [==============================] - 1s 5ms/step - loss: 0.0373 - val_loss: 0.0229\n",
            "Epoch 10/20\n",
            "143/143 [==============================] - 1s 4ms/step - loss: 0.0341 - val_loss: 0.0220\n",
            "Epoch 11/20\n",
            "143/143 [==============================] - 1s 4ms/step - loss: 0.0313 - val_loss: 0.0220\n",
            "Epoch 12/20\n",
            "143/143 [==============================] - 1s 5ms/step - loss: 0.0297 - val_loss: 0.0223\n",
            "Epoch 13/20\n",
            "143/143 [==============================] - 1s 4ms/step - loss: 0.0275 - val_loss: 0.0217\n",
            "Epoch 14/20\n",
            "143/143 [==============================] - 1s 4ms/step - loss: 0.0259 - val_loss: 0.0216\n",
            "Epoch 15/20\n",
            "143/143 [==============================] - 1s 4ms/step - loss: 0.0248 - val_loss: 0.0214\n",
            "Epoch 16/20\n",
            "143/143 [==============================] - 1s 4ms/step - loss: 0.0234 - val_loss: 0.0211\n",
            "Epoch 17/20\n",
            "143/143 [==============================] - 1s 4ms/step - loss: 0.0224 - val_loss: 0.0212\n",
            "Epoch 18/20\n",
            "143/143 [==============================] - 1s 5ms/step - loss: 0.0215 - val_loss: 0.0210\n",
            "Epoch 19/20\n",
            "143/143 [==============================] - 1s 5ms/step - loss: 0.0205 - val_loss: 0.0206\n",
            "Epoch 20/20\n",
            "143/143 [==============================] - 1s 4ms/step - loss: 0.0197 - val_loss: 0.0207\n"
          ]
        }
      ]
    },
    {
      "cell_type": "code",
      "source": [
        "import matplotlib.pyplot as plt\n",
        "plt.plot(history.history['loss'],'r',linewidth=2, label='Train loss')\n",
        "plt.plot(history.history['val_loss'], 'g',linewidth=2, label='Validation loss')\n",
        "plt.title('LSTM')\n",
        "plt.xlabel('Epochs')\n",
        "plt.ylabel('MAE')\n",
        "plt.show()"
      ],
      "metadata": {
        "id": "r49I9x_vLePO",
        "colab": {
          "base_uri": "https://localhost:8080/",
          "height": 295
        },
        "outputId": "8ca1d7ac-87af-4e12-ff80-8ed8e36720a1"
      },
      "execution_count": 52,
      "outputs": [
        {
          "output_type": "display_data",
          "data": {
            "text/plain": [
              "<Figure size 432x288 with 1 Axes>"
            ],
            "image/png": "[encoded data removed]"
          },
          "metadata": {
            "needs_background": "light"
          }
        }
      ]
    },
    {
      "cell_type": "code",
      "source": [
        "X_test, y_test = prepare_test(test_cardano, target_col, window_len=window_len, zero_base=True)"
      ],
      "metadata": {
        "id": "toKXaphLUgxg"
      },
      "execution_count": 53,
      "outputs": []
    },
    {
      "cell_type": "code",
      "source": [
        "evaluate(cardano_lstm, X_test, y_test, test_cardano)"
      ],
      "metadata": {
        "id": "ALhqg1HPUZIx",
        "colab": {
          "base_uri": "https://localhost:8080/"
        },
        "outputId": "f6a06db8-8a1d-4cec-b355-ecc5bbb93497"
      },
      "execution_count": 54,
      "outputs": [
        {
          "output_type": "stream",
          "name": "stdout",
          "text": [
            "RMSE: 0.039846748762644706\n",
            "MAPE: 1.4063032186442364%\n",
            "sMAPE: 1.4%\n",
            "Trend Prediction Accuracy: 0.5263250572283853\n"
          ]
        }
      ]
    },
    {
      "cell_type": "code",
      "source": [
        "targets = test_cardano[target_col][window_len:]\n",
        "preds = cardano_lstm.predict(X_test).squeeze()\n",
        "preds = test_cardano[target_col].values[:-window_len] * (preds + 1)\n",
        "preds = pd.Series(index=targets.index, data=preds)\n",
        "line_plot(targets, preds, 'actual', 'prediction', lw=3, title='Cardano-LSTM')"
      ],
      "metadata": {
        "id": "RgFpu3rLRJQg",
        "colab": {
          "base_uri": "https://localhost:8080/",
          "height": 446
        },
        "outputId": "68a84f36-c1a3-42e6-da93-68ca9d796ed9"
      },
      "execution_count": 55,
      "outputs": [
        {
          "output_type": "display_data",
          "data": {
            "text/plain": [
              "<Figure size 936x504 with 1 Axes>"
            ],
            "image/png": "[encoded data removed]"
          },
          "metadata": {
            "needs_background": "light"
          }
        }
      ]
    },
    {
      "cell_type": "markdown",
      "source": [
        "##### *training on Solana*"
      ],
      "metadata": {
        "id": "tX5QNBhLaCUK"
      }
    },
    {
      "cell_type": "code",
      "source": [
        "np.random.seed(42)\n",
        "window_len = 10\n",
        "# test_size = 0.2\n",
        "zero_base = True\n",
        "lstm_neurons = 100\n",
        "epochs = 20\n",
        "batch_size = 256\n",
        "loss = kr.MeanAbsoluteError()\n",
        "dropout = 0.2\n",
        "adam = Adam(learning_rate=0.001)\n",
        "optimizer = adam"
      ],
      "metadata": {
        "id": "IxfkT3BOaMR6"
      },
      "execution_count": 66,
      "outputs": []
    },
    {
      "cell_type": "code",
      "source": [
        "train, val, X_train, X_val, y_train, y_val = prepare_data(train_solana, target_col, window_len=window_len, zero_base=zero_base)"
      ],
      "metadata": {
        "id": "Fu0z29hZaV9n"
      },
      "execution_count": 67,
      "outputs": []
    },
    {
      "cell_type": "code",
      "source": [
        "X_train.shape"
      ],
      "metadata": {
        "id": "fX4E5GoNapnJ"
      },
      "execution_count": null,
      "outputs": []
    },
    {
      "cell_type": "code",
      "source": [
        "solana_lstm = build_lstm_model(X_train, output_size=1, neurons=lstm_neurons, dropout=dropout, loss=loss, optimizer=optimizer)\n",
        "history = solana_lstm.fit(X_train.astype(np.float32), y_train.astype(np.float32), validation_data=(X_val.astype(np.float32), y_val.astype(np.float32)), epochs=epochs, batch_size=batch_size, verbose=1, shuffle=True)"
      ],
      "metadata": {
        "id": "o5Aac4vUagkQ",
        "colab": {
          "base_uri": "https://localhost:8080/"
        },
        "outputId": "5985cd7a-0056-4ee4-fb83-33ebb3f7b5c7"
      },
      "execution_count": 68,
      "outputs": [
        {
          "output_type": "stream",
          "name": "stdout",
          "text": [
            "Epoch 1/20\n",
            "37/37 [==============================] - 2s 15ms/step - loss: 0.1872 - val_loss: 0.0492\n",
            "Epoch 2/20\n",
            "37/37 [==============================] - 0s 5ms/step - loss: 0.1238 - val_loss: 0.0423\n",
            "Epoch 3/20\n",
            "37/37 [==============================] - 0s 5ms/step - loss: 0.0989 - val_loss: 0.0391\n",
            "Epoch 4/20\n",
            "37/37 [==============================] - 0s 5ms/step - loss: 0.0807 - val_loss: 0.0356\n",
            "Epoch 5/20\n",
            "37/37 [==============================] - 0s 5ms/step - loss: 0.0702 - val_loss: 0.0324\n",
            "Epoch 6/20\n",
            "37/37 [==============================] - 0s 5ms/step - loss: 0.0597 - val_loss: 0.0288\n",
            "Epoch 7/20\n",
            "37/37 [==============================] - 0s 5ms/step - loss: 0.0514 - val_loss: 0.0266\n",
            "Epoch 8/20\n",
            "37/37 [==============================] - 0s 5ms/step - loss: 0.0477 - val_loss: 0.0262\n",
            "Epoch 9/20\n",
            "37/37 [==============================] - 0s 6ms/step - loss: 0.0436 - val_loss: 0.0257\n",
            "Epoch 10/20\n",
            "37/37 [==============================] - 0s 5ms/step - loss: 0.0414 - val_loss: 0.0247\n",
            "Epoch 11/20\n",
            "37/37 [==============================] - 0s 5ms/step - loss: 0.0396 - val_loss: 0.0306\n",
            "Epoch 12/20\n",
            "37/37 [==============================] - 0s 5ms/step - loss: 0.0378 - val_loss: 0.0236\n",
            "Epoch 13/20\n",
            "37/37 [==============================] - 0s 5ms/step - loss: 0.0358 - val_loss: 0.0246\n",
            "Epoch 14/20\n",
            "37/37 [==============================] - 0s 5ms/step - loss: 0.0344 - val_loss: 0.0238\n",
            "Epoch 15/20\n",
            "37/37 [==============================] - 0s 5ms/step - loss: 0.0328 - val_loss: 0.0225\n",
            "Epoch 16/20\n",
            "37/37 [==============================] - 0s 5ms/step - loss: 0.0326 - val_loss: 0.0232\n",
            "Epoch 17/20\n",
            "37/37 [==============================] - 0s 5ms/step - loss: 0.0315 - val_loss: 0.0214\n",
            "Epoch 18/20\n",
            "37/37 [==============================] - 0s 4ms/step - loss: 0.0308 - val_loss: 0.0208\n",
            "Epoch 19/20\n",
            "37/37 [==============================] - 0s 5ms/step - loss: 0.0302 - val_loss: 0.0221\n",
            "Epoch 20/20\n",
            "37/37 [==============================] - 0s 6ms/step - loss: 0.0294 - val_loss: 0.0216\n"
          ]
        }
      ]
    },
    {
      "cell_type": "code",
      "source": [
        "import matplotlib.pyplot as plt\n",
        "plt.plot(history.history['loss'],'r',linewidth=2, label='Train loss')\n",
        "plt.plot(history.history['val_loss'], 'g',linewidth=2, label='Validation loss')\n",
        "plt.title('Solana_LSTM')\n",
        "plt.xlabel('Epochs')\n",
        "plt.ylabel('MAE')\n",
        "plt.show()"
      ],
      "metadata": {
        "colab": {
          "base_uri": "https://localhost:8080/",
          "height": 295
        },
        "id": "OF_RcvU937Lq",
        "outputId": "9fe7cbaa-dba2-4fa3-80e7-d4fdf9fe7f24"
      },
      "execution_count": 69,
      "outputs": [
        {
          "output_type": "display_data",
          "data": {
            "text/plain": [
              "<Figure size 432x288 with 1 Axes>"
            ],
            "image/png": "[encoded data removed]"
          },
          "metadata": {
            "needs_background": "light"
          }
        }
      ]
    },
    {
      "cell_type": "code",
      "source": [
        "X_test, y_test = prepare_test(test_solana, target_col, window_len=window_len, zero_base=True)"
      ],
      "metadata": {
        "id": "sc095mFf3hGJ"
      },
      "execution_count": 70,
      "outputs": []
    },
    {
      "cell_type": "code",
      "source": [
        "evaluate(solana_lstm, X_test, y_test, test_solana)"
      ],
      "metadata": {
        "colab": {
          "base_uri": "https://localhost:8080/"
        },
        "id": "8-zwQO043nCq",
        "outputId": "ca397670-8968-4ba8-dc6f-e8d6b20eddcd"
      },
      "execution_count": 71,
      "outputs": [
        {
          "output_type": "stream",
          "name": "stdout",
          "text": [
            "RMSE: 3.7626534646581127\n",
            "MAPE: 2.0128407322575614%\n",
            "sMAPE: 1.99%\n",
            "Trend Prediction Accuracy: 0.5152957171991842\n"
          ]
        }
      ]
    },
    {
      "cell_type": "code",
      "source": [
        "targets = test_solana[target_col][window_len:]\n",
        "preds = solana_lstm.predict(X_test).squeeze()\n",
        "preds = test_solana[target_col].values[:-window_len] * (preds + 1)\n",
        "preds = pd.Series(index=targets.index, data=preds)\n",
        "line_plot(targets, preds, 'actual', 'prediction', lw=3, title='Solana-LSTM')"
      ],
      "metadata": {
        "colab": {
          "base_uri": "https://localhost:8080/",
          "height": 446
        },
        "id": "-_9aDwgl3utN",
        "outputId": "4ca25f3b-1c8d-4040-8615-5cc4721bea49"
      },
      "execution_count": 72,
      "outputs": [
        {
          "output_type": "display_data",
          "data": {
            "text/plain": [
              "<Figure size 936x504 with 1 Axes>"
            ],
            "image/png": "[encoded data removed]"
          },
          "metadata": {
            "needs_background": "light"
          }
        }
      ]
    },
    {
      "cell_type": "markdown",
      "source": [
        "#### GRU"
      ],
      "metadata": {
        "id": "Bd0XD71uejHY"
      }
    },
    {
      "cell_type": "code",
      "source": [
        "def build_gru_model(input_data, output_size, neurons=100, activ_func='linear',\n",
        "                     dropout=0.2, loss='mse', optimizer='adam'):\n",
        "    model = Sequential()\n",
        "    model.add(GRU(neurons, input_shape=(input_data.shape[1], input_data.shape[2]),return_sequences=False))\n",
        "    model.add(Activation('tanh'))\n",
        "    model.add(Dropout(dropout))\n",
        "    model.add(Dense(output_size))\n",
        "    model.add(Activation('relu'))\n",
        "    model.compile(loss='mse', optimizer=optimizer)\n",
        "\n",
        "    return model"
      ],
      "metadata": {
        "id": "IE6ByQBC1208"
      },
      "execution_count": 73,
      "outputs": []
    },
    {
      "cell_type": "markdown",
      "source": [
        "##### GRU on Cardano"
      ],
      "metadata": {
        "id": "z0An9N-GetBj"
      }
    },
    {
      "cell_type": "code",
      "source": [
        "np.random.seed(42)\n",
        "window_len = 5\n",
        "# test_size = 0.2\n",
        "zero_base = True\n",
        "lstm_neurons = 50\n",
        "epochs = 10\n",
        "batch_size = 32\n",
        "loss = kr.MeanAbsoluteError()\n",
        "dropout = 0.2\n",
        "adam = Adam(learning_rate=0.00001)\n",
        "optimizer = adam"
      ],
      "metadata": {
        "id": "1CimpZu2isnY"
      },
      "execution_count": null,
      "outputs": []
    },
    {
      "cell_type": "code",
      "source": [
        "train, val, X_train, X_val, y_train, y_val = prepare_data(train_cardano, target_col, window_len=window_len, zero_base=zero_base)"
      ],
      "metadata": {
        "id": "BX7DlGJUe6jn"
      },
      "execution_count": null,
      "outputs": []
    },
    {
      "cell_type": "code",
      "source": [
        "cardano_gru = build_gru_model(\n",
        "    X_train, output_size=1, neurons=lstm_neurons, dropout=dropout, \n",
        "    optimizer=optimizer)\n",
        "history = cardano_gru.fit(\n",
        "    X_train.astype(np.float32), y_train.astype(np.float32), validation_data=(X_val.astype(np.float32), y_val.astype(np.float32)), epochs=epochs, batch_size=batch_size, verbose=1, shuffle=True)"
      ],
      "metadata": {
        "id": "dTwh4VpvgS7c"
      },
      "execution_count": null,
      "outputs": []
    },
    {
      "cell_type": "code",
      "source": [
        "import matplotlib.pyplot as plt\n",
        "plt.plot(history.history['loss'],'r',linewidth=2, label='Train loss')\n",
        "plt.plot(history.history['val_loss'], 'g',linewidth=2, label='Validation loss')\n",
        "plt.title('Cardano_GRU')\n",
        "plt.xlabel('Epochs')\n",
        "plt.ylabel('MAE')\n",
        "plt.show()"
      ],
      "metadata": {
        "id": "3TGWzmFggztg"
      },
      "execution_count": null,
      "outputs": []
    },
    {
      "cell_type": "code",
      "source": [
        "X_test, y_test = prepare_test(test_cardano, target_col, window_len=window_len, zero_base=True)"
      ],
      "metadata": {
        "id": "BalbrXWbhQjN"
      },
      "execution_count": null,
      "outputs": []
    },
    {
      "cell_type": "code",
      "source": [
        "evaluate(cardano_gru, X_test, y_test, test_cardano)"
      ],
      "metadata": {
        "id": "111zCmkfhZRm"
      },
      "execution_count": null,
      "outputs": []
    },
    {
      "cell_type": "code",
      "source": [
        "targets = test_cardano[target_col][window_len:]\n",
        "preds = cardano_gru.predict(X_test).squeeze()\n",
        "preds = test_cardano[target_col].values[:-window_len] * (preds + 1)\n",
        "preds = pd.Series(index=targets.index, data=preds)\n",
        "line_plot(targets, preds, 'actual', 'prediction', lw=3, title='Cardano-GRU')"
      ],
      "metadata": {
        "id": "JeC7zd5-hfPH"
      },
      "execution_count": null,
      "outputs": []
    },
    {
      "cell_type": "markdown",
      "source": [
        "##### GRU on Solana"
      ],
      "metadata": {
        "id": "UlywRqS_xEWE"
      }
    },
    {
      "cell_type": "code",
      "source": [
        "np.random.seed(42)\n",
        "window_len = 5\n",
        "# test_size = 0.2\n",
        "zero_base = True\n",
        "lstm_neurons = 50\n",
        "epochs = 20\n",
        "batch_size = 32\n",
        "loss = kr.MeanAbsoluteError()\n",
        "dropout = 0.2\n",
        "adam = Adam(learning_rate=0.00001)\n",
        "optimizer = adam"
      ],
      "metadata": {
        "id": "VYtuNgqpxGZu"
      },
      "execution_count": 94,
      "outputs": []
    },
    {
      "cell_type": "code",
      "source": [
        "train, val, X_train, X_val, y_train, y_val = prepare_data(train_solana, target_col, window_len=window_len, zero_base=zero_base)"
      ],
      "metadata": {
        "id": "WF1SkMRwxSMU"
      },
      "execution_count": 75,
      "outputs": []
    },
    {
      "cell_type": "code",
      "source": [
        "y_train"
      ],
      "metadata": {
        "id": "Of2HStqZyN4d",
        "colab": {
          "base_uri": "https://localhost:8080/"
        },
        "outputId": "08e2f260-029a-458d-e718-20fd2940b631"
      },
      "execution_count": 127,
      "outputs": [
        {
          "output_type": "execute_result",
          "data": {
            "text/plain": [
              "array([ 0.0676259 , -0.04054054,  0.07309942, ..., -0.07024967,\n",
              "       -0.09025456, -0.08207287])"
            ]
          },
          "metadata": {},
          "execution_count": 127
        }
      ]
    },
    {
      "cell_type": "code",
      "source": [
        "solana_gru = build_gru_model(\n",
        "    X_train, output_size=1, neurons=lstm_neurons, dropout=dropout, \n",
        "    optimizer=optimizer)\n",
        "history = solana_gru.fit(\n",
        "    X_train.astype(np.float32), y_train.astype(np.float32), validation_data=(X_val.astype(np.float32), y_val.astype(np.float32)), epochs=epochs, batch_size=batch_size, verbose=1, shuffle=True)"
      ],
      "metadata": {
        "colab": {
          "base_uri": "https://localhost:8080/"
        },
        "id": "OE_JONpBxYIY",
        "outputId": "433af2d3-de32-444f-d210-8e695f3a8f7d"
      },
      "execution_count": 95,
      "outputs": [
        {
          "output_type": "stream",
          "name": "stdout",
          "text": [
            "Epoch 1/20\n",
            "296/296 [==============================] - 3s 5ms/step - loss: 0.1023 - val_loss: 0.0224\n",
            "Epoch 2/20\n",
            "296/296 [==============================] - 1s 4ms/step - loss: 0.0435 - val_loss: 0.0085\n",
            "Epoch 3/20\n",
            "296/296 [==============================] - 1s 4ms/step - loss: 0.0252 - val_loss: 0.0049\n",
            "Epoch 4/20\n",
            "296/296 [==============================] - 1s 4ms/step - loss: 0.0193 - val_loss: 0.0033\n",
            "Epoch 5/20\n",
            "296/296 [==============================] - 1s 4ms/step - loss: 0.0150 - val_loss: 0.0026\n",
            "Epoch 6/20\n",
            "296/296 [==============================] - 1s 4ms/step - loss: 0.0109 - val_loss: 0.0022\n",
            "Epoch 7/20\n",
            "296/296 [==============================] - 1s 4ms/step - loss: 0.0106 - val_loss: 0.0020\n",
            "Epoch 8/20\n",
            "296/296 [==============================] - 1s 4ms/step - loss: 0.0089 - val_loss: 0.0018\n",
            "Epoch 9/20\n",
            "296/296 [==============================] - 1s 4ms/step - loss: 0.0073 - val_loss: 0.0017\n",
            "Epoch 10/20\n",
            "296/296 [==============================] - 1s 4ms/step - loss: 0.0070 - val_loss: 0.0016\n",
            "Epoch 11/20\n",
            "296/296 [==============================] - 1s 4ms/step - loss: 0.0059 - val_loss: 0.0016\n",
            "Epoch 12/20\n",
            "296/296 [==============================] - 1s 4ms/step - loss: 0.0055 - val_loss: 0.0015\n",
            "Epoch 13/20\n",
            "296/296 [==============================] - 1s 4ms/step - loss: 0.0053 - val_loss: 0.0015\n",
            "Epoch 14/20\n",
            "296/296 [==============================] - 1s 4ms/step - loss: 0.0047 - val_loss: 0.0014\n",
            "Epoch 15/20\n",
            "296/296 [==============================] - 1s 4ms/step - loss: 0.0042 - val_loss: 0.0014\n",
            "Epoch 16/20\n",
            "296/296 [==============================] - 1s 4ms/step - loss: 0.0041 - val_loss: 0.0013\n",
            "Epoch 17/20\n",
            "296/296 [==============================] - 1s 4ms/step - loss: 0.0036 - val_loss: 0.0013\n",
            "Epoch 18/20\n",
            "296/296 [==============================] - 1s 4ms/step - loss: 0.0039 - val_loss: 0.0013\n",
            "Epoch 19/20\n",
            "296/296 [==============================] - 1s 4ms/step - loss: 0.0032 - val_loss: 0.0012\n",
            "Epoch 20/20\n",
            "296/296 [==============================] - 1s 4ms/step - loss: 0.0038 - val_loss: 0.0012\n"
          ]
        }
      ]
    },
    {
      "cell_type": "code",
      "source": [
        "import matplotlib.pyplot as plt\n",
        "plt.plot(history.history['loss'],'r',linewidth=2, label='Train loss')\n",
        "plt.plot(history.history['val_loss'], 'g',linewidth=2, label='Validation loss')\n",
        "plt.title('Solana_GRU')\n",
        "plt.xlabel('Epochs')\n",
        "plt.ylabel('MAE')\n",
        "plt.show()"
      ],
      "metadata": {
        "colab": {
          "base_uri": "https://localhost:8080/",
          "height": 295
        },
        "id": "Jre5k4hl5GA5",
        "outputId": "26414636-9512-4ab6-c68f-5af84c662b4c"
      },
      "execution_count": 96,
      "outputs": [
        {
          "output_type": "display_data",
          "data": {
            "text/plain": [
              "<Figure size 432x288 with 1 Axes>"
            ],
            "image/png": "[encoded data removed]"
          },
          "metadata": {
            "needs_background": "light"
          }
        }
      ]
    },
    {
      "cell_type": "code",
      "source": [
        "X_test, y_test = prepare_test(test_solana, target_col, window_len=window_len, zero_base=True)"
      ],
      "metadata": {
        "id": "DNE3B8_g5MZZ"
      },
      "execution_count": 78,
      "outputs": []
    },
    {
      "cell_type": "code",
      "source": [
        "evaluate(solana_gru, X_test, y_test, test_solana)"
      ],
      "metadata": {
        "colab": {
          "base_uri": "https://localhost:8080/"
        },
        "id": "ebVv8DBX5Q6Q",
        "outputId": "53c2b69c-a42c-4961-ab2a-36c880499b63"
      },
      "execution_count": 97,
      "outputs": [
        {
          "output_type": "stream",
          "name": "stdout",
          "text": [
            "RMSE: 3.535094071808301\n",
            "MAPE: 1.9815627541853242%\n",
            "sMAPE: 1.98%\n",
            "Trend Prediction Accuracy: 0.5215473362741772\n"
          ]
        }
      ]
    },
    {
      "cell_type": "code",
      "source": [
        "targets = test_solana[target_col][window_len:]\n",
        "preds = solana_gru.predict(X_test).squeeze()\n",
        "preds = test_solana[target_col].values[:-window_len] * (preds + 1)\n",
        "preds = pd.Series(index=targets.index, data=preds)\n",
        "line_plot(targets, preds, 'actual', 'prediction', lw=3, title='Solana-LSTM')"
      ],
      "metadata": {
        "colab": {
          "base_uri": "https://localhost:8080/",
          "height": 446
        },
        "id": "l1hri-zm7NMs",
        "outputId": "e6e832b5-5ff8-491e-ba44-0b22134a4809"
      },
      "execution_count": 98,
      "outputs": [
        {
          "output_type": "display_data",
          "data": {
            "text/plain": [
              "<Figure size 936x504 with 1 Axes>"
            ],
            "image/png": "[encoded data removed]"
          },
          "metadata": {
            "needs_background": "light"
          }
        }
      ]
    },
    {
      "cell_type": "markdown",
      "source": [
        "#### Bi-LSTM"
      ],
      "metadata": {
        "id": "Fa-WBjIFhqSn"
      }
    },
    {
      "cell_type": "code",
      "source": [
        "from keras.layers import Bidirectional"
      ],
      "metadata": {
        "id": "_bV6UPdm-hBC"
      },
      "execution_count": 99,
      "outputs": []
    },
    {
      "cell_type": "code",
      "source": [
        "def build_bi_lstm_model(input_data, output_size, neurons=100, activ_func='linear',\n",
        "                     dropout=0.2, loss='mse', optimizer='adam'):\n",
        "    model = Sequential()\n",
        "    model.add(Bidirectional(LSTM(neurons, input_shape=(input_data.shape[1], input_data.shape[2]))))\n",
        "    model.add(Dropout(dropout))\n",
        "    model.add(Dense(units=output_size))\n",
        "    model.add(Activation(activ_func))\n",
        "\n",
        "\n",
        "    model.compile(loss=loss, optimizer=optimizer)\n",
        "    return model"
      ],
      "metadata": {
        "id": "nWZ0jmwI-Q7c"
      },
      "execution_count": 100,
      "outputs": []
    },
    {
      "cell_type": "markdown",
      "source": [
        "#### Bi-LSTM on Cardano"
      ],
      "metadata": {
        "id": "2KldtKGChw3L"
      }
    },
    {
      "cell_type": "code",
      "source": [
        "np.random.seed(42)\n",
        "window_len = 10\n",
        "zero_base = True\n",
        "lstm_neurons = 50\n",
        "epochs = 10\n",
        "batch_size = 150\n",
        "loss = kr.MeanAbsoluteError()\n",
        "dropout = 0.2\n",
        "adam = Adam(learning_rate=0.001)\n",
        "optimizer = adam"
      ],
      "metadata": {
        "id": "9VjZZJQPh6Du"
      },
      "execution_count": null,
      "outputs": []
    },
    {
      "cell_type": "code",
      "source": [
        "train, val, X_train, X_val, y_train, y_val = prepare_data(train_cardano, target_col, window_len=window_len, zero_base=zero_base)"
      ],
      "metadata": {
        "id": "IhatNfF0jSYI"
      },
      "execution_count": null,
      "outputs": []
    },
    {
      "cell_type": "code",
      "source": [
        "cardano_bi = build_bi_lstm_model(\n",
        "    X_train, output_size=1, neurons=lstm_neurons, dropout=dropout, \n",
        "    optimizer=optimizer)\n",
        "history = cardano_bi.fit(\n",
        "    X_train.astype(np.float32), y_train.astype(np.float32), validation_data=(X_test.astype(np.float32), y_test.astype(np.float32)), epochs=epochs, batch_size=batch_size, verbose=1, shuffle=True)"
      ],
      "metadata": {
        "colab": {
          "base_uri": "https://localhost:8080/"
        },
        "id": "MmrBqlsDAgQt",
        "outputId": "e567438e-7c4e-4da6-9f09-fff707d0385d"
      },
      "execution_count": null,
      "outputs": [
        {
          "output_type": "stream",
          "name": "stdout",
          "text": [
            "Epoch 1/10\n",
            "122/122 [==============================] - 7s 12ms/step - loss: 0.0295 - val_loss: 0.0028\n",
            "Epoch 2/10\n",
            "122/122 [==============================] - 1s 6ms/step - loss: 0.0085 - val_loss: 0.0016\n",
            "Epoch 3/10\n",
            "122/122 [==============================] - 1s 7ms/step - loss: 0.0045 - val_loss: 0.0013\n",
            "Epoch 4/10\n",
            "122/122 [==============================] - 1s 6ms/step - loss: 0.0030 - val_loss: 0.0012\n",
            "Epoch 5/10\n",
            "122/122 [==============================] - 1s 7ms/step - loss: 0.0022 - val_loss: 0.0011\n",
            "Epoch 6/10\n",
            "122/122 [==============================] - 1s 7ms/step - loss: 0.0018 - val_loss: 0.0010\n",
            "Epoch 7/10\n",
            "122/122 [==============================] - 1s 6ms/step - loss: 0.0016 - val_loss: 0.0010\n",
            "Epoch 8/10\n",
            "122/122 [==============================] - 1s 7ms/step - loss: 0.0014 - val_loss: 9.5899e-04\n",
            "Epoch 9/10\n",
            "122/122 [==============================] - 1s 7ms/step - loss: 0.0012 - val_loss: 9.0283e-04\n",
            "Epoch 10/10\n",
            "122/122 [==============================] - 1s 7ms/step - loss: 0.0011 - val_loss: 8.6822e-04\n"
          ]
        }
      ]
    },
    {
      "cell_type": "code",
      "source": [
        "import matplotlib.pyplot as plt\n",
        "plt.plot(history.history['loss'],'r',linewidth=2, label='Train loss')\n",
        "plt.plot(history.history['val_loss'], 'g',linewidth=2, label='Validation loss')\n",
        "plt.title('Cardano_Bi-LSTM')\n",
        "plt.xlabel('Epochs')\n",
        "plt.ylabel('MAE')\n",
        "plt.show()"
      ],
      "metadata": {
        "colab": {
          "base_uri": "https://localhost:8080/",
          "height": 295
        },
        "id": "IhdaPFIEArBY",
        "outputId": "132045b2-f6ea-4f47-e3e6-cae0bfdd03cc"
      },
      "execution_count": null,
      "outputs": [
        {
          "output_type": "display_data",
          "data": {
            "text/plain": [
              "<Figure size 432x288 with 1 Axes>"
            ],
            "image/png": "[encoded data removed]"
          },
          "metadata": {
            "needs_background": "light"
          }
        }
      ]
    },
    {
      "cell_type": "code",
      "source": [
        "X_test, y_test = prepare_test(test_cardano, target_col, window_len=window_len, zero_base=True)"
      ],
      "metadata": {
        "id": "DhacyDw7iq38"
      },
      "execution_count": null,
      "outputs": []
    },
    {
      "cell_type": "code",
      "source": [
        "evaluate(cardano_bi, X_test, y_test, test_cardano)"
      ],
      "metadata": {
        "colab": {
          "base_uri": "https://localhost:8080/"
        },
        "id": "FIbTYROdiuvX",
        "outputId": "89255769-02c0-425c-e9fd-c3f7b7902ee0"
      },
      "execution_count": null,
      "outputs": [
        {
          "output_type": "stream",
          "name": "stdout",
          "text": [
            "RMSE: 0.051819723878549016\n",
            "MAPE: 2.0675132394472002%\n",
            "sMAPE: 2.06%\n",
            "Trend Prediction Accuracy: 0.5206203736341205\n"
          ]
        }
      ]
    },
    {
      "cell_type": "code",
      "source": [
        "targets = test_cardano[target_col][window_len:]\n",
        "preds = cardano_bi.predict(X_test).squeeze()\n",
        "preds = test_cardano[target_col].values[:-window_len] * (preds + 1)\n",
        "preds = pd.Series(index=targets.index, data=preds)\n",
        "line_plot(targets, preds, 'actual', 'prediction', lw=3, title='Cardano-Bi')"
      ],
      "metadata": {
        "colab": {
          "base_uri": "https://localhost:8080/",
          "height": 446
        },
        "id": "aQrXLTAci0_B",
        "outputId": "fae49ef0-394f-4026-decc-df9405af6190"
      },
      "execution_count": null,
      "outputs": [
        {
          "output_type": "display_data",
          "data": {
            "text/plain": [
              "<Figure size 936x504 with 1 Axes>"
            ],
            "image/png": "[encoded data removed]"
          },
          "metadata": {
            "needs_background": "light"
          }
        }
      ]
    },
    {
      "cell_type": "markdown",
      "source": [
        "##### Bi-LSTM on Solana"
      ],
      "metadata": {
        "id": "McnAWfUw7j4d"
      }
    },
    {
      "cell_type": "code",
      "source": [
        "np.random.seed(42)\n",
        "window_len = 5\n",
        "zero_base = True\n",
        "lstm_neurons = 50\n",
        "epochs = 10\n",
        "batch_size = 150\n",
        "loss = kr.MeanAbsoluteError()\n",
        "dropout = 0.2\n",
        "adam = Adam(learning_rate=0.001)\n",
        "optimizer = adam"
      ],
      "metadata": {
        "id": "Y24SNN0S7t51"
      },
      "execution_count": 110,
      "outputs": []
    },
    {
      "cell_type": "code",
      "source": [
        "train, val, X_train, X_val, y_train, y_val = prepare_data(train_solana, target_col, window_len=window_len, zero_base=zero_base)"
      ],
      "metadata": {
        "id": "mz90yQ4o71kE"
      },
      "execution_count": 111,
      "outputs": []
    },
    {
      "cell_type": "code",
      "source": [
        "solana_bi = build_bi_lstm_model(\n",
        "    X_train, output_size=1, neurons=lstm_neurons, dropout=dropout, \n",
        "    optimizer=optimizer)\n",
        "history = solana_bi.fit(\n",
        "    X_train.astype(np.float32), y_train.astype(np.float32), validation_data=(X_val.astype(np.float32), y_val.astype(np.float32)), epochs=epochs, batch_size=batch_size, verbose=1, shuffle=True)"
      ],
      "metadata": {
        "colab": {
          "base_uri": "https://localhost:8080/"
        },
        "id": "S3lylHqq79Z3",
        "outputId": "110daae6-ca1a-4f42-b42e-6bc805840a6e"
      },
      "execution_count": 112,
      "outputs": [
        {
          "output_type": "stream",
          "name": "stdout",
          "text": [
            "Epoch 1/10\n",
            "63/63 [==============================] - 7s 41ms/step - loss: 0.0425 - val_loss: 0.0026\n",
            "Epoch 2/10\n",
            "63/63 [==============================] - 1s 10ms/step - loss: 0.0176 - val_loss: 0.0017\n",
            "Epoch 3/10\n",
            "63/63 [==============================] - 1s 12ms/step - loss: 0.0115 - val_loss: 0.0013\n",
            "Epoch 4/10\n",
            "63/63 [==============================] - 1s 11ms/step - loss: 0.0081 - val_loss: 0.0013\n",
            "Epoch 5/10\n",
            "63/63 [==============================] - 1s 11ms/step - loss: 0.0061 - val_loss: 0.0010\n",
            "Epoch 6/10\n",
            "63/63 [==============================] - 0s 6ms/step - loss: 0.0048 - val_loss: 9.1810e-04\n",
            "Epoch 7/10\n",
            "63/63 [==============================] - 0s 7ms/step - loss: 0.0042 - val_loss: 9.2498e-04\n",
            "Epoch 8/10\n",
            "63/63 [==============================] - 0s 6ms/step - loss: 0.0035 - val_loss: 9.4817e-04\n",
            "Epoch 9/10\n",
            "63/63 [==============================] - 0s 6ms/step - loss: 0.0031 - val_loss: 8.5683e-04\n",
            "Epoch 10/10\n",
            "63/63 [==============================] - 0s 6ms/step - loss: 0.0029 - val_loss: 8.0393e-04\n"
          ]
        }
      ]
    },
    {
      "cell_type": "code",
      "source": [
        "import matplotlib.pyplot as plt\n",
        "plt.plot(history.history['loss'],'r',linewidth=2, label='Train loss')\n",
        "plt.plot(history.history['val_loss'], 'g',linewidth=2, label='Validation loss')\n",
        "plt.title('Solana_Bi-LSTM')\n",
        "plt.xlabel('Epochs')\n",
        "plt.ylabel('MAE')\n",
        "plt.show()"
      ],
      "metadata": {
        "colab": {
          "base_uri": "https://localhost:8080/",
          "height": 295
        },
        "id": "XYOv_yoN8cRQ",
        "outputId": "8f264051-9b01-44ec-9b99-9ef27a25356f"
      },
      "execution_count": 113,
      "outputs": [
        {
          "output_type": "display_data",
          "data": {
            "text/plain": [
              "<Figure size 432x288 with 1 Axes>"
            ],
            "image/png": "[encoded data removed]"
          },
          "metadata": {
            "needs_background": "light"
          }
        }
      ]
    },
    {
      "cell_type": "code",
      "source": [
        "X_test, y_test = prepare_test(test_solana, target_col, window_len=window_len, zero_base=True)"
      ],
      "metadata": {
        "id": "IA5ZiNBF8sjt"
      },
      "execution_count": 115,
      "outputs": []
    },
    {
      "cell_type": "code",
      "source": [
        "evaluate(solana_bi, X_test, y_test, test_solana)"
      ],
      "metadata": {
        "colab": {
          "base_uri": "https://localhost:8080/"
        },
        "id": "plN_wJQ-8zyo",
        "outputId": "81cab38f-3ca0-46b0-ebbd-c20a3f16c654"
      },
      "execution_count": 116,
      "outputs": [
        {
          "output_type": "stream",
          "name": "stdout",
          "text": [
            "RMSE: 3.2399267076768146\n",
            "MAPE: 1.7259666189087859%\n",
            "sMAPE: 1.72%\n",
            "Trend Prediction Accuracy: 0.502884289107567\n"
          ]
        }
      ]
    },
    {
      "cell_type": "code",
      "source": [
        "targets = test_solana[target_col][window_len:]\n",
        "preds = solana_bi.predict(X_test).squeeze()\n",
        "preds = test_solana[target_col].values[:-window_len] * (preds + 1)\n",
        "preds = pd.Series(index=targets.index, data=preds)\n",
        "line_plot(targets, preds, 'actual', 'prediction', lw=3, title='Solana-Bi-LSTM')"
      ],
      "metadata": {
        "colab": {
          "base_uri": "https://localhost:8080/",
          "height": 446
        },
        "id": "xjbkM1XJ8-aa",
        "outputId": "40eee01e-717f-4147-cd1c-aceda6e5c3c4"
      },
      "execution_count": 117,
      "outputs": [
        {
          "output_type": "display_data",
          "data": {
            "text/plain": [
              "<Figure size 936x504 with 1 Axes>"
            ],
            "image/png": "[encoded data removed]"
          },
          "metadata": {
            "needs_background": "light"
          }
        }
      ]
    }
  ]
}